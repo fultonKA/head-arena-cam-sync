{
 "cells": [
  {
   "cell_type": "code",
   "execution_count": 2,
   "id": "4261ec43",
   "metadata": {},
   "outputs": [
    {
     "name": "stderr",
     "output_type": "stream",
     "text": [
      "In /home/gg121/anaconda3/envs/sync_test/lib/python3.7/site-packages/matplotlib/mpl-data/stylelib/_classic_test.mplstyle: \n",
      "The text.latex.preview rcparam was deprecated in Matplotlib 3.3 and will be removed two minor releases later.\n",
      "In /home/gg121/anaconda3/envs/sync_test/lib/python3.7/site-packages/matplotlib/mpl-data/stylelib/_classic_test.mplstyle: \n",
      "The mathtext.fallback_to_cm rcparam was deprecated in Matplotlib 3.3 and will be removed two minor releases later.\n",
      "In /home/gg121/anaconda3/envs/sync_test/lib/python3.7/site-packages/matplotlib/mpl-data/stylelib/_classic_test.mplstyle: Support for setting the 'mathtext.fallback_to_cm' rcParam is deprecated since 3.3 and will be removed two minor releases later; use 'mathtext.fallback : 'cm' instead.\n",
      "In /home/gg121/anaconda3/envs/sync_test/lib/python3.7/site-packages/matplotlib/mpl-data/stylelib/_classic_test.mplstyle: \n",
      "The validate_bool_maybe_none function was deprecated in Matplotlib 3.3 and will be removed two minor releases later.\n",
      "In /home/gg121/anaconda3/envs/sync_test/lib/python3.7/site-packages/matplotlib/mpl-data/stylelib/_classic_test.mplstyle: \n",
      "The savefig.jpeg_quality rcparam was deprecated in Matplotlib 3.3 and will be removed two minor releases later.\n",
      "In /home/gg121/anaconda3/envs/sync_test/lib/python3.7/site-packages/matplotlib/mpl-data/stylelib/_classic_test.mplstyle: \n",
      "The keymap.all_axes rcparam was deprecated in Matplotlib 3.3 and will be removed two minor releases later.\n",
      "In /home/gg121/anaconda3/envs/sync_test/lib/python3.7/site-packages/matplotlib/mpl-data/stylelib/_classic_test.mplstyle: \n",
      "The animation.avconv_path rcparam was deprecated in Matplotlib 3.3 and will be removed two minor releases later.\n",
      "In /home/gg121/anaconda3/envs/sync_test/lib/python3.7/site-packages/matplotlib/mpl-data/stylelib/_classic_test.mplstyle: \n",
      "The animation.avconv_args rcparam was deprecated in Matplotlib 3.3 and will be removed two minor releases later.\n"
     ]
    }
   ],
   "source": [
    "import os\n",
    "from datetime import datetime\n",
    "import numpy as np\n",
    "from main import  main_function ## we're in ~/code/moseq2-ephys-sync/moseq2_ephys_sync/"
   ]
  },
  {
   "cell_type": "code",
   "execution_count": 19,
   "id": "bc8a8f6c",
   "metadata": {},
   "outputs": [],
   "source": [
    "# mouse = 'gmou31'\n",
    "# base_dir = '/n/groups/datta/guitchounts/data/%s/' % mouse\n",
    "# sessions = [fil for fil in os.listdir(base_dir) if os.path.isdir('%s/%s' % (base_dir,fil)) and fil.startswith('gmou')]"
   ]
  },
  {
   "cell_type": "code",
   "execution_count": 13,
   "id": "333f1d15",
   "metadata": {},
   "outputs": [],
   "source": [
    "session_type = 'odor' # 'bucket'\n",
    "mouse = 'gmou32'\n",
    "base_path = '/n/groups/datta/guitchounts/data/%s/' % mouse\n",
    "sessions = [fil for fil in os.listdir(base_path) if os.path.isdir('%s/%s' % (base_path,fil)) and fil.startswith(mouse) and fil.endswith(session_type)]\n",
    "\n"
   ]
  },
  {
   "cell_type": "code",
   "execution_count": 14,
   "id": "7646efde",
   "metadata": {},
   "outputs": [],
   "source": [
    "dates = [datetime.strptime(sesh.split('_')[1] , '%Y-%m-%d') for sesh in sessions]"
   ]
  },
  {
   "cell_type": "code",
   "execution_count": 15,
   "id": "ccc8ffd1",
   "metadata": {},
   "outputs": [],
   "source": [
    "sessions = np.array(sessions)[np.argsort(dates)]"
   ]
  },
  {
   "cell_type": "code",
   "execution_count": 16,
   "id": "831dfe50",
   "metadata": {
    "scrolled": true
   },
   "outputs": [
    {
     "data": {
      "text/plain": [
       "array(['gmou32_2021-10-01_10-09-52_odor',\n",
       "       'gmou32_2021-10-05_13-06-18_odor',\n",
       "       'gmou32_2021-10-06_12-11-57_odor',\n",
       "       'gmou32_2021-10-07_12-30-05_odor',\n",
       "       'gmou32_2021-10-29_15-55-52_odor',\n",
       "       'gmou32_2021-11-01_13-42-33_odor',\n",
       "       'gmou32_2021-11-02_10-00-25_odor',\n",
       "       'gmou32_2021-11-03_13-18-06_odor',\n",
       "       'gmou32_2021-11-04_11-11-12_odor',\n",
       "       'gmou32_2021-11-05_11-29-04_odor'], dtype='<U31')"
      ]
     },
     "execution_count": 16,
     "metadata": {},
     "output_type": "execute_result"
    }
   ],
   "source": [
    "sessions"
   ]
  },
  {
   "cell_type": "code",
   "execution_count": 17,
   "id": "ecbe87d3",
   "metadata": {},
   "outputs": [
    {
     "name": "stdout",
     "output_type": "stream",
     "text": [
      "Running sync on /n/groups/datta/guitchounts/data/gmou32//gmou32_2021-11-01_13-42-33_odor with ttl as first source and arduino as second source.\n",
      "Dealing with first souce...\n",
      "Assuming sync leds in ttl channels 1-4...\n",
      "Dealing with second souce...\n",
      "Doing arduino workflow...\n",
      "Syncing the two sources...\n",
      "Modeling the two sources from each other...\n"
     ]
    },
    {
     "name": "stderr",
     "output_type": "stream",
     "text": [
      "[Parallel(n_jobs=1)]: Using backend SequentialBackend with 1 concurrent workers.\n",
      "[Parallel(n_jobs=1)]: Done   4 out of   4 | elapsed:    0.0s finished\n"
     ]
    },
    {
     "name": "stdout",
     "output_type": "stream",
     "text": [
      "Saved model that predicts ttl from arduino\n"
     ]
    },
    {
     "name": "stderr",
     "output_type": "stream",
     "text": [
      "[Parallel(n_jobs=1)]: Using backend SequentialBackend with 1 concurrent workers.\n",
      "[Parallel(n_jobs=1)]: Done   4 out of   4 | elapsed:    0.0s finished\n"
     ]
    },
    {
     "name": "stdout",
     "output_type": "stream",
     "text": [
      "Saved model that predicts arduino from ttl\n",
      "Syncing complete. FIN\n",
      "Running sync on /n/groups/datta/guitchounts/data/gmou32//gmou32_2021-11-02_10-00-25_odor with ttl as first source and arduino as second source.\n",
      "Dealing with first souce...\n",
      "Assuming sync leds in ttl channels 1-4...\n",
      "Dealing with second souce...\n",
      "Doing arduino workflow...\n"
     ]
    },
    {
     "name": "stderr",
     "output_type": "stream",
     "text": [
      "/home/gg121/anaconda3/envs/sync_test/lib/python3.7/site-packages/pandas/util/_decorators.py:311: ParserWarning: Falling back to the 'python' engine because the 'c' engine does not support skipfooter; you can avoid this warning by specifying engine='python'.\n",
      "  return func(*args, **kwargs)\n",
      "/home/gg121/code/moseq2-ephys-sync/moseq2_ephys_sync/arduino.py:26: FutureWarning: The warn_bad_lines argument has been deprecated and will be removed in a future version.\n",
      "\n",
      "\n",
      "  ino_data = load_arduino_data(base_path, arduino_colnames, arduino_dtypes, file_glob='*.txt')\n"
     ]
    },
    {
     "name": "stdout",
     "output_type": "stream",
     "text": [
      "Syncing the two sources...\n",
      "Modeling the two sources from each other...\n"
     ]
    },
    {
     "name": "stderr",
     "output_type": "stream",
     "text": [
      "[Parallel(n_jobs=1)]: Using backend SequentialBackend with 1 concurrent workers.\n",
      "[Parallel(n_jobs=1)]: Done   4 out of   4 | elapsed:    0.0s finished\n"
     ]
    },
    {
     "name": "stdout",
     "output_type": "stream",
     "text": [
      "Saved model that predicts ttl from arduino\n"
     ]
    },
    {
     "name": "stderr",
     "output_type": "stream",
     "text": [
      "[Parallel(n_jobs=1)]: Using backend SequentialBackend with 1 concurrent workers.\n",
      "[Parallel(n_jobs=1)]: Done   4 out of   4 | elapsed:    0.0s finished\n"
     ]
    },
    {
     "name": "stdout",
     "output_type": "stream",
     "text": [
      "Saved model that predicts arduino from ttl\n",
      "Syncing complete. FIN\n",
      "Running sync on /n/groups/datta/guitchounts/data/gmou32//gmou32_2021-11-03_13-18-06_odor with ttl as first source and arduino as second source.\n",
      "Dealing with first souce...\n",
      "Assuming sync leds in ttl channels 1-4...\n",
      "Dealing with second souce...\n",
      "Doing arduino workflow...\n"
     ]
    },
    {
     "name": "stderr",
     "output_type": "stream",
     "text": [
      "/home/gg121/anaconda3/envs/sync_test/lib/python3.7/site-packages/pandas/util/_decorators.py:311: ParserWarning: Falling back to the 'python' engine because the 'c' engine does not support skipfooter; you can avoid this warning by specifying engine='python'.\n",
      "  return func(*args, **kwargs)\n",
      "/home/gg121/code/moseq2-ephys-sync/moseq2_ephys_sync/arduino.py:26: FutureWarning: The warn_bad_lines argument has been deprecated and will be removed in a future version.\n",
      "\n",
      "\n",
      "  ino_data = load_arduino_data(base_path, arduino_colnames, arduino_dtypes, file_glob='*.txt')\n"
     ]
    },
    {
     "name": "stdout",
     "output_type": "stream",
     "text": [
      "Syncing the two sources...\n",
      "Modeling the two sources from each other...\n"
     ]
    },
    {
     "name": "stderr",
     "output_type": "stream",
     "text": [
      "[Parallel(n_jobs=1)]: Using backend SequentialBackend with 1 concurrent workers.\n",
      "[Parallel(n_jobs=1)]: Done   4 out of   4 | elapsed:    0.0s finished\n"
     ]
    },
    {
     "name": "stdout",
     "output_type": "stream",
     "text": [
      "Saved model that predicts ttl from arduino\n"
     ]
    },
    {
     "name": "stderr",
     "output_type": "stream",
     "text": [
      "[Parallel(n_jobs=1)]: Using backend SequentialBackend with 1 concurrent workers.\n",
      "[Parallel(n_jobs=1)]: Done   4 out of   4 | elapsed:    0.0s finished\n"
     ]
    },
    {
     "name": "stdout",
     "output_type": "stream",
     "text": [
      "Saved model that predicts arduino from ttl\n",
      "Syncing complete. FIN\n",
      "Running sync on /n/groups/datta/guitchounts/data/gmou32//gmou32_2021-11-04_11-11-12_odor with ttl as first source and arduino as second source.\n",
      "Dealing with first souce...\n",
      "Assuming sync leds in ttl channels 1-4...\n",
      "Dealing with second souce...\n",
      "Doing arduino workflow...\n",
      "Syncing the two sources...\n",
      "Modeling the two sources from each other...\n"
     ]
    },
    {
     "name": "stderr",
     "output_type": "stream",
     "text": [
      "[Parallel(n_jobs=1)]: Using backend SequentialBackend with 1 concurrent workers.\n",
      "[Parallel(n_jobs=1)]: Done   4 out of   4 | elapsed:    0.0s finished\n"
     ]
    },
    {
     "name": "stdout",
     "output_type": "stream",
     "text": [
      "Saved model that predicts ttl from arduino\n"
     ]
    },
    {
     "name": "stderr",
     "output_type": "stream",
     "text": [
      "[Parallel(n_jobs=1)]: Using backend SequentialBackend with 1 concurrent workers.\n",
      "[Parallel(n_jobs=1)]: Done   4 out of   4 | elapsed:    0.0s finished\n"
     ]
    },
    {
     "name": "stdout",
     "output_type": "stream",
     "text": [
      "Saved model that predicts arduino from ttl\n",
      "Syncing complete. FIN\n",
      "Running sync on /n/groups/datta/guitchounts/data/gmou32//gmou32_2021-11-05_11-29-04_odor with ttl as first source and arduino as second source.\n",
      "Dealing with first souce...\n",
      "Assuming sync leds in ttl channels 1-4...\n",
      "Dealing with second souce...\n",
      "Doing arduino workflow...\n",
      "Syncing the two sources...\n",
      "Modeling the two sources from each other...\n"
     ]
    },
    {
     "name": "stderr",
     "output_type": "stream",
     "text": [
      "[Parallel(n_jobs=1)]: Using backend SequentialBackend with 1 concurrent workers.\n",
      "[Parallel(n_jobs=1)]: Done   4 out of   4 | elapsed:    0.0s finished\n"
     ]
    },
    {
     "name": "stdout",
     "output_type": "stream",
     "text": [
      "Saved model that predicts ttl from arduino\n"
     ]
    },
    {
     "name": "stderr",
     "output_type": "stream",
     "text": [
      "[Parallel(n_jobs=1)]: Using backend SequentialBackend with 1 concurrent workers.\n",
      "[Parallel(n_jobs=1)]: Done   4 out of   4 | elapsed:    0.0s finished\n"
     ]
    },
    {
     "name": "stdout",
     "output_type": "stream",
     "text": [
      "Saved model that predicts arduino from ttl\n",
      "Syncing complete. FIN\n"
     ]
    }
   ],
   "source": [
    "for session in sessions[5:]:\n",
    "    \n",
    "    arduino_spec = 'odor_on_wheel'\n",
    "    path = '%s/%s' % (base_path,session)\n",
    "    main_function(base_path=path,output_dir_name='sync',\n",
    "            first_source='ttl',second_source='arduino',arduino_spec=arduino_spec,leds_to_use=[1,2,3])"
   ]
  },
  {
   "cell_type": "code",
   "execution_count": 12,
   "id": "03931bf8",
   "metadata": {},
   "outputs": [
    {
     "data": {
      "text/plain": [
       "'gmou31_2021-11-05_10-05-41_odor'"
      ]
     },
     "execution_count": 12,
     "metadata": {},
     "output_type": "execute_result"
    }
   ],
   "source": [
    "session"
   ]
  },
  {
   "cell_type": "code",
   "execution_count": null,
   "id": "39809784",
   "metadata": {},
   "outputs": [],
   "source": []
  },
  {
   "cell_type": "code",
   "execution_count": null,
   "id": "3f88a2eb",
   "metadata": {},
   "outputs": [],
   "source": []
  },
  {
   "cell_type": "code",
   "execution_count": 21,
   "id": "ac426835",
   "metadata": {},
   "outputs": [],
   "source": [
    "dates = [datetime.strptime(sesh.split('_')[1] , '%Y-%m-%d') for sesh in sessions]"
   ]
  },
  {
   "cell_type": "code",
   "execution_count": 22,
   "id": "6ac88a17",
   "metadata": {},
   "outputs": [],
   "source": [
    "sessions = np.array(sessions)[np.argsort(dates)]"
   ]
  },
  {
   "cell_type": "code",
   "execution_count": 23,
   "id": "6f23ed2b",
   "metadata": {},
   "outputs": [
    {
     "data": {
      "text/plain": [
       "array(['gmou31_2021-10-01_17-12-03_bucket',\n",
       "       'gmou31_2021-10-01_14-18-30_odor',\n",
       "       'gmou31_2021-10-05_11-51-37_odor',\n",
       "       'gmou31_2021-10-05_13-55-04_bucket',\n",
       "       'gmou31_2021-10-06_12-18-52_bucket',\n",
       "       'gmou31_2021-10-06_14-04-04_odor',\n",
       "       'gmou31_2021-10-07_10-43-22_odor',\n",
       "       'gmou31_2021-10-07_12-24-05_bucket',\n",
       "       'gmou31_2021-10-29_16-12-06_bucket',\n",
       "       'gmou31_2021-10-29_17-26-25_odor',\n",
       "       'gmou31_2021-11-01_13-34-38_bucket',\n",
       "       'gmou31_2021-11-01_12-02-34_odor',\n",
       "       'gmou31_2021-11-02_11-48-28_odor',\n",
       "       'gmou31_2021-11-02_10-07-38_bucket',\n",
       "       'gmou31_2021-11-03_11-51-03_odor',\n",
       "       'gmou31_2021-11-03_13-12-37_bucket',\n",
       "       'gmou31_2021-11-04_11-34-41_bucket',\n",
       "       'gmou31_2021-11-04_12-44-45_odor',\n",
       "       'gmou31_2021-11-05_10-05-41_odor',\n",
       "       'gmou31_2021-11-05_11-33-02_bucket'], dtype='<U33')"
      ]
     },
     "execution_count": 23,
     "metadata": {},
     "output_type": "execute_result"
    }
   ],
   "source": [
    "sessions"
   ]
  },
  {
   "cell_type": "code",
   "execution_count": null,
   "id": "36bdd2c2",
   "metadata": {},
   "outputs": [],
   "source": []
  },
  {
   "cell_type": "code",
   "execution_count": 24,
   "id": "83fb701d",
   "metadata": {},
   "outputs": [
    {
     "name": "stdout",
     "output_type": "stream",
     "text": [
      "gmou31_2021-10-29_17-26-25_odor\n",
      "Running sync on /n/groups/datta/guitchounts/data/gmou31//gmou31_2021-10-29_17-26-25_odor/ with ttl as first source and arduino as second source.\n",
      "Assuming sync leds in ttl channels 1-4...\n"
     ]
    },
    {
     "name": "stderr",
     "output_type": "stream",
     "text": [
      "/home/gg121/code/moseq2-ephys-sync/moseq2_ephys_sync/arduino.py:16: FutureWarning: The error_bad_lines argument has been deprecated and will be removed in a future version.\n",
      "\n",
      "\n",
      "  ino_data = load_arduino_data(base_path, arduino_colnames, arduino_dtypes, file_glob='*.txt')\n"
     ]
    },
    {
     "name": "stdout",
     "output_type": "stream",
     "text": [
      "first_source_led_codes[:,1] =  [0. 5. 3. 4. 1. 3. 7. 4. 1. 6. 1. 5. 7. 2. 3. 6. 1. 5. 2. 3. 0. 7. 1. 2.\n",
      " 0. 3. 7. 2. 5. 7. 5. 3. 5. 4. 3. 6. 4. 2. 3. 1. 3. 4. 2. 7. 2. 5. 6. 0.\n",
      " 6. 0. 7. 5. 2. 5. 6. 0. 7. 0. 4. 7. 6. 2. 0. 6. 4. 1. 6. 0. 4. 7. 3. 1.\n",
      " 3. 5. 2. 5. 7. 1. 4. 1. 3. 2. 6. 3. 0. 1. 3. 1. 4. 0. 2. 1. 5. 7. 5. 6.\n",
      " 1. 3. 4. 7. 1. 0. 4. 6. 5. 4. 5. 4. 7. 0. 6. 5. 0. 3. 4. 0. 2. 3. 0. 4.\n",
      " 3. 0. 4. 2. 0. 1. 7. 3. 6. 5. 0. 6. 1. 5. 3. 6. 3. 7. 3. 1. 0. 5. 0. 5.\n",
      " 1. 4. 6. 1. 0. 5. 6. 7. 3. 6. 1. 3. 0. 6. 5. 7. 4. 1. 6. 1. 5. 3. 1. 3.\n",
      " 2. 1. 6. 4. 5. 0. 3. 2. 7. 5. 6. 3. 6. 7. 0. 4. 3. 1. 2. 6. 1. 4. 1. 3.\n",
      " 4. 2. 0. 7. 2. 4. 0. 5. 4. 3. 2. 6. 4. 5. 7. 6. 4. 2. 1. 7. 0. 2. 1. 4.\n",
      " 5. 6. 3. 6. 2. 0. 4. 3. 0. 3. 2. 7. 3. 7. 4. 2. 7. 2. 4. 0. 5. 7. 2. 0.\n",
      " 3. 5. 2. 1. 3. 4. 2. 4. 2. 4. 1. 5. 4. 3. 1. 3. 6. 5. 6. 3. 7. 5. 1. 2.\n",
      " 5. 6. 0. 1. 6. 3. 1. 0. 6. 5. 0. 7. 3. 6. 0. 1. 2. 0. 5. 0. 4. 2. 4. 5.\n",
      " 2. 4. 2. 7. 5. 4. 0. 6. 3. 0. 4. 6. 3. 1. 6. 1. 7. 6. 5. 1. 4. 1. 0. 7.\n",
      " 3. 1. 7. 0. 4. 3. 6. 5. 1. 2. 4. 0. 5. 1. 7. 3. 1. 0. 7. 0. 6. 4. 6. 4.\n",
      " 2. 6. 1. 3. 5. 7. 2. 7. 4. 7. 5. 1. 5. 4. 6. 5. 1. 2. 4. 3. 2. 5. 4. 0.\n",
      " 1. 2. 5. 4. 6. 7. 6. 2. 5. 0. 1. 5. 7. 0. 3. 5. 4. 7. 5. 1. 3. 6. 5. 0.\n",
      " 4. 6. 2. 0. 7. 2. 7. 1. 7. 2. 5. 7. 6. 0. 6. 3. 6. 1. 3. 4. 2. 0. 5. 7.\n",
      " 2. 6. 0. 4. 3. 5. 7. 2. 1. 6. 0. 1. 4. 3. 2. 4. 3. 7. 0. 2. 3. 0. 7. 2.\n",
      " 7. 6. 0. 7. 1. 5. 4. 5. 6. 1. 3. 6. 7. 4. 5. 4. 0. 1. 4. 6. 1. 6. 1. 0.\n",
      " 3. 5. 3. 6. 0. 2. 3. 4. 7. 6. 1. 7. 6. 4. 2. 4. 2. 7. 4. 2. 6. 2. 4. 5.\n",
      " 6. 7. 3. 2. 5. 0. 7. 4. 7. 6. 2. 4. 3. 6. 0. 2. 3. 1. 6. 7. 2. 4. 0. 7.\n",
      " 3. 2. 4. 1. 2. 6. 4. 7. 6. 5. 0. 3. 5. 6. 4. 5. 6. 7. 2. 3. 0. 6. 2. 5.\n",
      " 1. 6. 1. 3. 4. 3. 4. 6. 0. 4. 0. 1. 3. 5. 1. 7. 6. 0. 1. 7. 2. 3. 5. 2.\n",
      " 0. 4. 7. 2. 6. 2. 4. 5. 4. 1. 5. 0. 3. 1. 3. 2. 5. 7. 0. 2. 3. 2. 5. 2.\n",
      " 0. 7. 4. 7. 4. 2. 4. 5. 6. 7. 6. 0. 6. 1. 2. 0. 4. 3. 6. 4. 3. 4. 7. 0.\n",
      " 3. 1. 7. 6. 5. 7. 4. 7. 2. 5. 4. 5. 4. 7. 2. 0. 1. 5. 4. 6. 3. 6. 7. 2.\n",
      " 1. 2. 6. 7. 2. 7. 0. 5. 7. 6. 2. 7. 2. 6. 5.]\n",
      "second_source_led_codes[:,1] =  [ 0 13  3 12  1 11  7 12  1 14  1 13  7 10  3 14  1 13  2 11  3  8  7  9\n",
      "  2  8  3 15  2 13  7 15  5 13  3 13  4 11  6 12  4 10  3  9  3 11  4 10\n",
      "  7 10  5 13  6  8  6  8  7 15  5 10  5 14  0 15  0 12  7 14  2  8  6 12\n",
      "  1 14  0  8  4 15  3  9  3 13  2 13  7 15  1 12  1 11  2 14  3  8  1 11\n",
      "  1 12  0 10  1 13  5 15  5 13  6  9  3 12  7  9  0 12  6 13  5 12  5 12\n",
      "  7  8  0 14  6 13  0 11  4  8  2 11  0 12  3  8  0 12  2  8  1 15  3 14\n",
      "  5  8  6  9  5 11  6 14  3 15  3  9  0 13  5  8  5  9  4 14  6  9  0 13\n",
      "  5 14  7 11  6  9  3  8  0 14  5 15  4  9  6  9  1  9  5 11  1 11  2 10\n",
      "  1 14  4 12  5 13  0 11  2 15  5 14  3 14  7  8  4 12  3  9  2 14  1 12\n",
      "  1 11  4 10  0 15  2 12  0 13  4 11  2 14  4 13  7 14  4 10  1 15  0 10\n",
      "  1 12  5 13  6 11  6 10  0 12  3  8  3 10  7 11  7 12  2 15  2 12  0 13\n",
      "  5 15  2  8  3 13  2  9  3 12  2 12  2 12  1 13  4 11  3  9  3 14  5 14\n",
      "  3 15  7 13  1  9  2 13  6  8  1 14  3  9  1  8  6 13  0 15  3 11  6  8\n",
      "  1 10  0 13  0 12  2 12  5 10  4 10  7 13  4 12  0 14  6 11  0 12  6 11\n",
      "  1 14  6  9  7 14  5  9  4  9  0 15  3  9  7  8  4 11  6 13  1 10  4  8\n",
      "  0 13  1 15  3  9  0 15  0 14  4 14  4 10  6  9  3 13  5 15  2 15  4 15\n",
      "  5  9  5 12  6 14  5  9  2 12  3 10  5 12  0  9  2 13  5 12  4 14  7 14\n",
      "  2 13  0  9  5 15  0 11  3 13  4 15  5  9  3 14  5  8  4 14  2  8  7 10\n",
      "  7  9  7 10  5 13  7 15  6  8  6 11  6 14  1 11  4 12  2  8  5 15  2 14\n",
      "  0  8  4 11  3 13  7 10  1 14  0  9  4 11  2 12  3 15  0 10  3  8  7 10\n",
      "  2 15  7 14  0 15  1 13  4 13  6  9  3 14  7 12  5 12  0  9  1 12  6  9\n",
      "  6  9  0 11  5 11  6  8  2 10  2 11  4 15  6  9  7 15  6 12  2 12  2 15\n",
      "  4 10  6 10  4 13  6 15  3 10  5  8  7 12  7 15  7 14  2 12  4 11  6  8\n",
      "  2 11  1 14  6 15  2 12  0 15  3 10  4  9  2 14  4 15  6 13  0 11  5 14\n",
      "  4 13  6 15  2 11  0 14  2 13  1 14  1 11  4 11  4 14  0  8  4  8  1 11\n",
      "  5  9  7 15  6  8  1 15  2 11  5 10  0  8  4 12  7 10  6 10  4 13  4 12\n",
      "  4  9  5  8  3  9  3 10  2 13  7  8  0 10  3 10  5 10  0 15  4 15  4 10\n",
      "  2 12  5 14  7 14  0 14  1 10  0 12  3 14  4 11  3 12  4 15  0 11  1 15\n",
      "  6 13  7 12  7 10  5 12  5 12  7 10  0  8  0  8  1 13  4 14  3 14  7 15\n",
      "  2 10  2  9  2 14  7 10  7  8  5 15  6 10  7 10  2 14  5 15  7]\n",
      "matches =  []\n",
      "Error\n",
      "gmou31_2021-11-01_13-34-38_bucket\n",
      "Running sync on /n/groups/datta/guitchounts/data/gmou31//gmou31_2021-11-01_13-34-38_bucket/ with ttl as first source and arduino as second source.\n",
      "Assuming sync leds in ttl channels 1-4...\n"
     ]
    },
    {
     "name": "stderr",
     "output_type": "stream",
     "text": [
      "/home/gg121/code/moseq2-ephys-sync/moseq2_ephys_sync/arduino.py:16: FutureWarning: The error_bad_lines argument has been deprecated and will be removed in a future version.\n",
      "\n",
      "\n",
      "  ino_data = load_arduino_data(base_path, arduino_colnames, arduino_dtypes, file_glob='*.txt')\n"
     ]
    },
    {
     "name": "stdout",
     "output_type": "stream",
     "text": [
      "first_source_led_codes[:,1] =  [ 2.  8.  0. 13.  3. 12.  1. 11.  7. 12.  1. 14.  1. 13.  7. 10.  3. 14.\n",
      "  1. 13.  2. 11.  3.  8.  7.  9.  2.  8.  3. 15.  2. 13.  7. 15.  5. 13.\n",
      "  3. 13.  4. 11.  6. 12.  4. 10.  3.  9.  3. 11.  4. 10.  7. 10.  5. 13.\n",
      "  6.  8.  6.  8.  7. 15.  5. 10.  5. 14.  0. 15.  0. 12.  7. 14.  2.  8.\n",
      "  6. 12.  1. 14.  0.  8.  4. 15.  3.  9.  3. 13.  2. 13.  7. 15.  1. 12.\n",
      "  1. 11.  2. 14.  3.  8.  1. 11.  1. 12.  0. 10.  1. 13.  5. 15.  5. 13.\n",
      "  6.  9.  3. 12.  7.  9.  0. 12.  6. 13.  5. 12.  5. 12.  7.  8.  0. 14.\n",
      "  6. 13.  0. 11.  4.  8.  2. 11.  0. 12.  3.  8.  0. 12.  2.  8.  1. 15.\n",
      "  3. 14.  5.  8.  6.  9.  5. 11.  6. 14.  3. 15.  3.  9.  0. 13.  5.  8.\n",
      "  5.  9.  4. 14.  6.  9.  0. 13.  5. 14.  7. 11.  6.  9.  3.  8.  0. 14.\n",
      "  5. 15.  4.  9.  6.  9.  1.  9.  5. 11.  1. 11.  2. 10.  1. 14.  4. 12.\n",
      "  5. 13.  0. 11.  2. 15.  5. 14.  3. 14.  7.  8.  4. 12.  3.  9.  2. 14.\n",
      "  1. 12.  1. 11.  4. 10.  0. 15.  2. 12.  0. 13.  4. 11.  2. 14.  4. 13.\n",
      "  7. 14.  4. 10.  1. 15.  0. 10.  1. 12.  5. 13.  6. 11.  6. 10.  0. 12.\n",
      "  3.  8.  3. 10.  7. 11.  7. 12.  2. 15.  2. 12.  0. 13.  5. 15.  2.  8.\n",
      "  3. 13.  2.  9.  3. 12.  2. 12.  2. 12.  1. 13.  4. 11.  3.  9.  3. 14.\n",
      "  5. 14.  3. 15.  7. 13.  1.  9.  2. 13.  6.  8.  1. 14.  3.  9.  1.  8.\n",
      "  6. 13.  0. 15.  3. 11.  6.  8.  1. 10.  0. 13.  0. 12.  2. 12.  5. 10.\n",
      "  4. 10.  7. 13.  4. 12.  0. 14.  6. 11.  0. 12.  6. 11.  1. 14.  6.  9.\n",
      "  7. 14.  5.  9.  4.  9.  0. 15.  3.  9.  7.  8.  4. 11.  6. 13.  1. 10.\n",
      "  4.  8.  0. 13.  1. 15.  3.  9.  0. 15.  0. 14.  4. 14.  4. 10.  6.  9.\n",
      "  3. 13.  5. 15.  2. 15.  4. 15.  5.  9.  5. 12.  6. 14.  5.  9.  2. 12.\n",
      "  3. 10.  5. 12.  0.  9.  2. 13.  5. 12.  4. 14.  7. 14.  2. 13.  0.  9.\n",
      "  5. 15.  0. 11.  3. 13.  4. 15.  5.  9.  3. 14.  5.  8.  4. 14.  2.  8.\n",
      "  7. 10.  7.  9.  7. 10.  5. 13.  7. 15.  6.  8.  6. 11.  6. 14.  1. 11.\n",
      "  4. 12.  2.  8.  5. 15.  2. 14.  0.  8.  4. 11.  3. 13.  7. 10.  1. 14.\n",
      "  0.  9.  4. 11.  2. 12.  3. 15.  0. 10.  3.  8.  7. 10.  2. 15.  7. 14.\n",
      "  0. 15.  1. 13.  4. 13.  6.  9.  3. 14.  7. 12.  5. 12.  0.  9.  1. 12.\n",
      "  6.  9.  6.  9.  0. 11.  5. 11.  6.  8.  2. 10.  2. 11.  4. 15.  6.  9.\n",
      "  7. 15.  6. 12.  2. 12.  2. 15.  4. 10.  6. 10.  4. 13.  6. 15.  3. 10.\n",
      "  5.  8.  7. 12.  7. 15.  7. 14.  2. 12.  4. 11.  6.  8.  2. 11.  1. 14.\n",
      "  6. 15.  2. 12.  0. 15.  3. 10.  4.  9.  2. 14.  4. 15.  6. 13.  0. 11.\n",
      "  5. 14.  4. 13.  6. 15.  2. 11.  0. 14.  2. 13.  1. 14.  1. 11.  4. 11.\n",
      "  4. 14.  0.  8.  4.  8.  1. 11.  5.  9.  7. 15.  6.  8.  1. 15.  2. 11.\n",
      "  5. 10.  0.  8.  4. 12.  7. 10.  6. 10.  4. 13.  4. 12.  4.  9.  5.  8.\n",
      "  3.  9.  3. 10.  2. 13.  7.  8.  0. 10.  3. 10.  5. 10.  0. 15.  4. 15.\n",
      "  4. 10.  2. 12.  5. 14.  7. 14.  0. 14.  1. 10.  0. 12.  3. 14.  4. 11.\n",
      "  3. 12.  4. 15.  0. 11.  1. 15.  6. 13.  7. 12.  7. 10.  5. 12.  5. 12.\n",
      "  7. 10.  0.  8.  0.  8.  1. 13.  4. 14.  3. 14.  7. 15.  2. 10.  2.  9.\n",
      "  2. 14.  7. 10.  7.  8.  5. 15.  6. 10.  7. 10.  2. 14.  5. 15.  7. 15.\n",
      "  4. 14.  0. 12.  5. 15.  2. 11.  3. 14.  2. 12.  4. 12.  5. 14.  4.  8.\n",
      "  5. 13.  4.  9.  3. 15.  0. 14.  7. 12.]\n",
      "second_source_led_codes[:,1] =  [ 0 13  3 12  1 11  7 12  1 14  1 13  7 10  3 14  1 13  2 11  3  8  7  9\n",
      "  2  8  3 15  2 13  7 15  5 13  3 13  4 11  6 12  4 10  3  9  3 11  4 10\n",
      "  7 10  5 13  6  8  6  8  7 15  5 10  5 14  0 15  0 12  7 14  2  8  6 12\n",
      "  1 14  0  8  4 15  3  9  3 13  2 13  7 15  1 12  1 11  2 14  3  8  1 11\n",
      "  1 12  0 10  1 13  5 15  5 13  6  9  3 12  7  9  0 12  6 13  5 12  5 12\n",
      "  7  8  0 14  6 13  0 11  4  8  2 11  0 12  3  8  0 12  2  8  1 15  3 14\n",
      "  5  8  6  9  5 11  6 14  3 15  3  9  0 13  5  8  5  9  4 14  6  9  0 13\n",
      "  5 14  7 11  6  9  3  8  0 14  5 15  4  9  6  9  1  9  5 11  1 11  2 10\n",
      "  1 14  4 12  5 13  0 11  2 15  5 14  3 14  7  8  4 12  3  9  2 14  1 12\n",
      "  1 11  4 10  0 15  2 12  0 13  4 11  2 14  4 13  7 14  4 10  1 15  0 10\n",
      "  1 12  5 13  6 11  6 10  0 12  3  8  3 10  7 11  7 12  2 15  2 12  0 13\n",
      "  5 15  2  8  3 13  2  9  3 12  2 12  2 12  1 13  4 11  3  9  3 14  5 14\n",
      "  3 15  7 13  1  9  2 13  6  8  1 14  3  9  1  8  6 13  0 15  3 11  6  8\n",
      "  1 10  0 13  0 12  2 12  5 10  4 10  7 13  4 12  0 14  6 11  0 12  6 11\n",
      "  1 14  6  9  7 14  5  9  4  9  0 15  3  9  7  8  4 11  6 13  1 10  4  8\n",
      "  0 13  1 15  3  9  0 15  0 14  4 14  4 10  6  9  3 13  5 15  2 15  4 15\n",
      "  5  9  5 12  6 14  5  9  2 12  3 10  5 12  0  9  2 13  5 12  4 14  7 14\n",
      "  2 13  0  9  5 15  0 11  3 13  4 15  5  9  3 14  5  8  4 14  2  8  7 10\n",
      "  7  9  7 10  5 13  7 15  6  8  6 11  6 14  1 11  4 12  2  8  5 15  2 14\n",
      "  0  8  4 11  3 13  7 10  1 14  0  9  4 11  2 12  3 15  0 10  3  8  7 10\n",
      "  2 15  7 14  0 15  1 13  4 13  6  9  3 14  7 12  5 12  0  9  1 12  6  9\n",
      "  6  9  0 11  5 11  6  8  2 10  2 11  4 15  6  9  7 15  6 12  2 12  2 15\n",
      "  4 10  6 10  4 13  6 15  3 10  5  8  7 12  7 15  7 14  2 12  4 11  6  8\n",
      "  2 11  1 14  6 15  2 12  0 15  3 10  4  9  2 14  4 15  6 13  0 11  5 14\n",
      "  4 13  6 15  2 11  0 14  2 13  1 14  1 11  4 11  4 14  0  8  4  8  1 11\n",
      "  5  9  7 15  6  8  1 15  2 11  5 10  0  8  4 12  7 10  6 10  4 13  4 12\n",
      "  4  9  5  8  3  9  3 10  2 13  7  8  0 10  3 10  5 10  0 15  4 15  4 10\n",
      "  2 12  5 14  7 14  0 14  1 10  0 12  3 14  4 11  3 12  4 15  0 11  1 15\n",
      "  6 13  7 12  7 10  5 12  5 12  7 10  0  8  0  8  1 13  4 14  3 14  7 15\n",
      "  2 10  2  9  2 14  7 10  7  8  5 15  6 10  7 10  2 14  5 15  7 15  4 14\n",
      "  0 12  5 15  2 11  3 14  2 12  4 12  5 14  4  8  5]\n",
      "matches =  [[  11.5593       98.        ]\n",
      " [  16.5595      103.        ]\n",
      " [  21.56263333  108.        ]\n",
      " ...\n",
      " [3671.65306667 3758.        ]\n",
      " [3676.65393333 3763.        ]\n",
      " [3681.65496667 3768.        ]]\n"
     ]
    },
    {
     "name": "stderr",
     "output_type": "stream",
     "text": [
      "[Parallel(n_jobs=1)]: Using backend SequentialBackend with 1 concurrent workers.\n",
      "[Parallel(n_jobs=1)]: Done   4 out of   4 | elapsed:    0.0s finished\n"
     ]
    },
    {
     "name": "stdout",
     "output_type": "stream",
     "text": [
      "Saved model that predicts ttl from arduino\n"
     ]
    },
    {
     "name": "stderr",
     "output_type": "stream",
     "text": [
      "[Parallel(n_jobs=1)]: Using backend SequentialBackend with 1 concurrent workers.\n",
      "[Parallel(n_jobs=1)]: Done   4 out of   4 | elapsed:    0.0s finished\n"
     ]
    },
    {
     "name": "stdout",
     "output_type": "stream",
     "text": [
      "Saved model that predicts arduino from ttl\n",
      "Syncing complete. FIN\n",
      "gmou31_2021-11-01_12-02-34_odor\n",
      "Running sync on /n/groups/datta/guitchounts/data/gmou31//gmou31_2021-11-01_12-02-34_odor/ with ttl as first source and arduino as second source.\n",
      "Assuming sync leds in ttl channels 1-4...\n"
     ]
    },
    {
     "name": "stderr",
     "output_type": "stream",
     "text": [
      "/home/gg121/code/moseq2-ephys-sync/moseq2_ephys_sync/arduino.py:16: FutureWarning: The error_bad_lines argument has been deprecated and will be removed in a future version.\n",
      "\n",
      "\n",
      "  ino_data = load_arduino_data(base_path, arduino_colnames, arduino_dtypes, file_glob='*.txt')\n",
      "/home/gg121/anaconda3/envs/sync_test/lib/python3.7/site-packages/pandas/util/_decorators.py:311: ParserWarning: Falling back to the 'python' engine because the 'c' engine does not support skipfooter; you can avoid this warning by specifying engine='python'.\n",
      "  return func(*args, **kwargs)\n",
      "/home/gg121/code/moseq2-ephys-sync/moseq2_ephys_sync/arduino.py:16: FutureWarning: The warn_bad_lines argument has been deprecated and will be removed in a future version.\n",
      "\n",
      "\n",
      "  ino_data = load_arduino_data(base_path, arduino_colnames, arduino_dtypes, file_glob='*.txt')\n"
     ]
    },
    {
     "name": "stdout",
     "output_type": "stream",
     "text": [
      "first_source_led_codes[:,1] =  [3. 2. 4. 6. 2. 1. 0. 6. 0. 3. 7. 2. 0. 1. 0. 3. 2. 0. 5. 3. 4. 1. 3. 7.\n",
      " 4. 1. 6. 1. 5. 7. 2. 3. 6. 1. 5. 2. 3. 0. 7. 1. 2. 0. 3. 7. 2. 5. 7. 5.\n",
      " 3. 5. 4. 3. 6. 4. 2. 3. 1. 3. 4. 2. 7. 2. 5. 6. 0. 6. 0. 7. 5. 2. 5. 6.\n",
      " 0. 7. 0. 4. 7. 6. 2. 0. 6. 4. 1. 6. 0. 4. 7. 3. 1. 3. 5. 2. 5. 7. 1. 4.\n",
      " 1. 3. 2. 6. 3. 0. 1. 3. 1. 4. 0. 2. 1. 5. 7. 5. 6. 1. 3. 4. 7. 1. 0. 4.\n",
      " 6. 5. 4. 5. 4. 7. 0. 6. 5. 0. 3. 4. 0. 2. 3. 0. 4. 3. 0. 4. 2. 0. 1. 7.\n",
      " 3. 6. 5. 0. 6. 1. 5. 3. 6. 3. 7. 3. 1. 0. 5. 0. 5. 1. 4. 6. 1. 0. 5. 6.\n",
      " 7. 3. 6. 1. 3. 0. 6. 5. 7. 4. 1. 6. 1. 5. 3. 1. 3. 2. 1. 6. 4. 5. 0. 3.\n",
      " 2. 7. 5. 6. 3. 6. 7. 0. 4. 3. 1. 2. 6. 1. 4. 1. 3. 4. 2. 0. 7. 2. 4. 0.\n",
      " 5. 4. 3. 2. 6. 4. 5. 7. 6. 4. 2. 1. 7. 0. 2. 1. 4. 5. 6. 3. 6. 2. 0. 4.\n",
      " 3. 0. 3. 2. 7. 3. 7. 4. 2. 7. 2. 4. 0. 5. 7. 2. 0. 3. 5. 2. 1. 3. 4. 2.\n",
      " 4. 2. 4. 1. 5. 4. 3. 1. 3. 6. 5. 6. 3. 7. 5. 1. 2. 5. 6. 0. 1. 6. 3. 1.\n",
      " 0. 6. 5. 0. 7. 3. 6. 0. 1. 2. 0. 5. 0. 4. 2. 4. 5. 2. 4. 2. 7. 5. 4. 0.\n",
      " 6. 3. 0. 4. 6. 3. 1. 6. 1. 7. 6. 5. 1. 4. 1. 0. 7. 3. 1. 7. 0. 4. 3. 6.\n",
      " 5. 1. 2. 4. 0. 5. 1. 7. 3. 1. 0. 7. 0. 6. 4. 6. 4. 2. 6. 1. 3. 5. 7. 2.\n",
      " 7. 4. 7. 5. 1. 5. 4. 6. 5. 1. 2. 4. 3. 2. 5. 4. 0. 1. 2. 5. 4. 6. 7. 6.\n",
      " 2. 5. 0. 1. 5. 7. 0. 3. 5. 4. 7. 5. 1. 3. 6. 5. 0. 4. 6. 2. 0. 7. 2. 7.\n",
      " 1. 7. 2. 5. 7. 6. 0. 6. 3. 6. 1. 3. 4. 2. 0. 5. 7. 2. 6. 0. 4. 3. 5. 7.\n",
      " 2. 1. 6. 0. 1. 4. 3. 2. 4. 3. 7. 0. 2. 3. 0. 7. 2. 7. 6. 0. 7. 1. 5. 4.\n",
      " 5. 6. 1. 3. 6. 7. 4. 5. 4. 0. 1. 4. 6. 1. 6. 1. 0. 3. 5. 3. 6. 0. 2. 3.\n",
      " 4. 7. 6. 1. 7. 6. 4. 2. 4. 2. 7. 4. 2. 6. 2. 4. 5. 6. 7. 3. 2. 5. 0. 7.\n",
      " 4. 7. 6. 2. 4. 3. 6. 0. 2. 3. 1. 6. 7. 2. 4. 0. 7. 3. 2. 4. 1. 2. 6. 4.\n",
      " 7. 6. 5. 0. 3. 5. 6. 4. 5. 6. 7. 2. 3. 0. 6. 2. 5. 1. 6. 1. 3. 4. 3. 4.\n",
      " 6. 0. 4. 0. 1. 3. 5. 1. 7. 6. 0. 1. 7. 2. 3. 5. 2. 0. 4. 7. 2. 6. 2. 4.\n",
      " 5. 4. 1. 5. 0. 3. 1. 3. 2. 5. 7. 0. 2. 3. 2. 5. 2. 0. 7. 4. 7. 4. 2. 4.\n",
      " 5. 6. 7. 6. 0. 6. 1. 2. 0. 4. 3. 6. 4. 3. 4. 7. 0. 3. 1. 7. 6. 5. 7. 4.\n",
      " 7. 2. 5. 4. 5. 4. 7. 2. 0. 1. 5. 4. 6. 3. 6. 7.]\n",
      "second_source_led_codes[:,1] =  [14  6 10  1  8  6  8  3 11  7 10  0  9  0 11  2  8  0 13  3 12  1 11  7\n",
      " 12  1 14  1 13  7 10  3 14  1 13  2 11  3  8  7  9  2  8  3 15  2 13  7\n",
      " 15  5 13  3 13  4 11  6 12  4 10  3  9  3 11  4 10  7 10  5 13  6  8  6\n",
      "  8  7 15  5 10  5 14  0 15  0 12  7 14  2  8  6 12  1 14  0  8  4 15  3\n",
      "  9  3 13  2 13  7 15  1 12  1 11  2 14  3  8  1 11  1 12  0 10  1 13  5\n",
      " 15  5 13  6  9  3 12  7  9  0 12  6 13  5 12  5 12  7  8  0 14  6 13  0\n",
      " 11  4  8  2 11  0 12  3  8  0 12  2  8  1 15  3 14  5  8  6  9  5 11  6\n",
      " 14  3 15  3  9  0 13  5  8  5  9  4 14  6  9  0 13  5 14  7 11  6  9  3\n",
      "  8  0 14  5 15  4  9  6  9  1  9  5 11  1 11  2 10  1 14  4 12  5 13  0\n",
      " 11  2 15  5 14  3 14  7  8  4 12  3  9  2 14  1 12  1 11  4 10  0 15  2\n",
      " 12  0 13  4 11  2 14  4 13  7 14  4 10  1 15  0 10  1 12  5 13  6 11  6\n",
      " 10  0 12  3  8  3 10  7 11  7 12  2 15  2 12  0 13  5 15  2  8  3 13  2\n",
      "  9  3 12  2 12  2 12  1 13  4 11  3  9  3 14  5 14  3 15  7 13  1  9  2\n",
      " 13  6  8  1 14  3  9  1  8  6 13  0 15  3 11  6  8  1 10  0 13  0 12  2\n",
      " 12  5 10  4 10  7 13  4 12  0 14  6 11  0 12  6 11  1 14  6  9  7 14  5\n",
      "  9  4  9  0 15  3  9  7  8  4 11  6 13  1 10  4  8  0 13  1 15  3  9  0\n",
      " 15  0 14  4 14  4 10  6  9  3 13  5 15  2 15  4 15  5  9  5 12  6 14  5\n",
      "  9  2 12  3 10  5 12  0  9  2 13  5 12  4 14  7 14  2 13  0  9  5 15  0\n",
      " 11  3 13  4 15  5  9  3 14  5  8  4 14  2  8  7 10  7  9  7 10  5 13  7\n",
      " 15  6  8  6 11  6 14  1 11  4 12  2  8  5 15  2 14  0  8  4 11  3 13  7\n",
      " 10  1 14  0  9  4 11  2 12  3 15  0 10  3  8  7 10  2 15  7 14  0 15  1\n",
      " 13  4 13  6  9  3 14  7 12  5 12  0  9  1 12  6  9  6  9  0 11  5 11  6\n",
      "  8  2 10  2 11  4 15  6  9  7 15  6 12  2 12  2 15  4 10  6 10  4 13  6\n",
      " 15  3 10  5  8  7 12  7 15  7 14  2 12  4 11  6  8  2 11  1 14  6 15  2\n",
      " 12  0 15  3 10  4  9  2 14  4 15  6 13  0 11  5 14  4 13  6 15  2 11  0\n",
      " 14  2 13  1 14  1 11  4 11  4 14  0  8  4  8  1 11  5  9  7 15  6  8  1\n",
      " 15  2 11  5 10  0  8  4 12  7 10  6 10  4 13  4 12  4  9  5  8  3  9  3\n",
      " 10  2 13  7  8  0 10  3 10  5 10  0 15  4 15  4 10  2 12  5 14  7 14  0\n",
      " 14  1 10  0 12  3 14  4 11  3 12  4 15  0 11  1 15  6 13  7 12  7 10  5\n",
      " 12  5 12  7 10  0  8  0  8  1 13  4 14  3 14  7 15  2 10]\n",
      "matches =  []\n",
      "Error\n",
      "gmou31_2021-11-02_11-48-28_odor\n",
      "Running sync on /n/groups/datta/guitchounts/data/gmou31//gmou31_2021-11-02_11-48-28_odor/ with ttl as first source and arduino as second source.\n",
      "Assuming sync leds in ttl channels 1-4...\n"
     ]
    },
    {
     "name": "stderr",
     "output_type": "stream",
     "text": [
      "/home/gg121/code/moseq2-ephys-sync/moseq2_ephys_sync/arduino.py:16: FutureWarning: The error_bad_lines argument has been deprecated and will be removed in a future version.\n",
      "\n",
      "\n",
      "  ino_data = load_arduino_data(base_path, arduino_colnames, arduino_dtypes, file_glob='*.txt')\n"
     ]
    },
    {
     "name": "stdout",
     "output_type": "stream",
     "text": [
      "first_source_led_codes[:,1] =  [6. 0. 3. 7. 2. 0. 1. 0. 3. 2. 0. 5. 3. 4. 1. 3. 7. 4. 1. 6. 1. 5. 7. 2.\n",
      " 3. 6. 1. 5. 2. 3. 0. 7. 1. 2. 0. 3. 7. 2. 5. 7. 5. 3. 5. 4. 3. 6. 4. 2.\n",
      " 3. 1. 3. 4. 2. 7. 2. 5. 6. 0. 6. 0. 7. 5. 2. 5. 6. 0. 7. 0. 4. 7. 6. 2.\n",
      " 0. 6. 4. 1. 6. 0. 4. 7. 3. 1. 3. 5. 2. 5. 7. 1. 4. 1. 3. 2. 6. 3. 0. 1.\n",
      " 3. 1. 4. 0. 2. 1. 5. 7. 5. 6. 1. 3. 4. 7. 1. 0. 4. 6. 5. 4. 5. 4. 7. 0.\n",
      " 6. 5. 0. 3. 4. 0. 2. 3. 0. 4. 3. 0. 4. 2. 0. 1. 7. 3. 6. 5. 0. 6. 1. 5.\n",
      " 3. 6. 3. 7. 3. 1. 0. 5. 0. 5. 1. 4. 6. 1. 0. 5. 6. 7. 3. 6. 1. 3. 0. 6.\n",
      " 5. 7. 4. 1. 6. 1. 5. 3. 1. 3. 2. 1. 6. 4. 5. 0. 3. 2. 7. 5. 6. 3. 6. 7.\n",
      " 0. 4. 3. 1. 2. 6. 1. 4. 1. 3. 4. 2. 0. 7. 2. 4. 0. 5. 4. 3. 2. 6. 4. 5.\n",
      " 7. 6. 4. 2. 1. 7. 0. 2. 1. 4. 5. 6. 3. 6. 2. 0. 4. 3. 0. 3. 2. 7. 3. 7.\n",
      " 4. 2. 7. 2. 4. 0. 5. 7. 2. 0. 3. 5. 2. 1. 3. 4. 2. 4. 2. 4. 1. 5. 4. 3.\n",
      " 1. 3. 6. 5. 6. 3. 7. 5. 1. 2. 5. 6. 0. 1. 6. 3. 1. 0. 6. 5. 0. 7. 3. 6.\n",
      " 0. 1. 2. 0. 5. 0. 4. 2. 4. 5. 2. 4. 2. 7. 5. 4. 0. 6. 3. 0. 4. 6. 3. 1.\n",
      " 6. 1. 7. 6. 5. 1. 4. 1. 0. 7. 3. 1. 7. 0. 4. 3. 6. 5. 1. 2. 4. 0. 5. 1.\n",
      " 7. 3. 1. 0. 7. 0. 6. 4. 6. 4. 2. 6. 1. 3. 5. 7. 2. 7. 4. 7. 5. 1. 5. 4.\n",
      " 6. 5. 1. 2. 4. 3. 2. 5. 4. 0. 1. 2. 5. 4. 6. 7. 6. 2. 5. 0. 1. 5. 7. 0.\n",
      " 3. 5. 4. 7. 5. 1. 3. 6. 5. 0. 4. 6. 2. 0. 7. 2. 7. 1. 7. 2. 5. 7. 6. 0.\n",
      " 6. 3. 6. 1. 3. 4. 2. 0. 5. 7. 2. 6. 0. 4. 3. 5. 7. 2. 1. 6. 0. 1. 4. 3.\n",
      " 2. 4. 3. 7. 0. 2. 3. 0. 7. 2. 7. 6. 0. 7. 1. 5. 4. 5. 6. 1. 3. 6. 7. 4.\n",
      " 5. 4. 0. 1. 4. 6. 1. 6. 1. 0. 3. 5. 3. 6. 0. 2. 3. 4. 7. 6. 1. 7. 6. 4.\n",
      " 2. 4. 2. 7. 4. 2. 6. 2. 4. 5. 6. 7. 3. 2. 5. 0. 7. 4. 7. 6. 2. 4. 3. 6.\n",
      " 0. 2. 3. 1. 6. 7. 2. 4. 0. 7. 3. 2. 4. 1. 2. 6. 4. 7. 6. 5. 0. 3. 5. 6.\n",
      " 4. 5. 6. 7. 2. 3. 0. 6. 2. 5. 1. 6. 1. 3. 4. 3. 4. 6. 0. 4. 0. 1. 3. 5.\n",
      " 1. 7. 6. 0. 1. 7. 2. 3. 5. 2. 0. 4. 7. 2. 6. 2. 4. 5. 4. 1. 5. 0. 3. 1.\n",
      " 3. 2. 5. 7. 0. 2. 3. 2. 5. 2. 0. 7. 4. 7. 4. 2. 4. 5. 6. 7. 6. 0. 6. 1.\n",
      " 2. 0. 4. 3. 6. 4. 3. 4. 7. 0. 3. 1. 7. 6. 5. 7. 4. 7. 2. 5. 4. 5. 4. 7.\n",
      " 2. 0. 1. 5. 4. 6. 3. 6. 7. 2. 1. 2. 6. 7. 2.]\n",
      "second_source_led_codes[:,1] =  [ 8  6  8  3 11  7 10  0  9  0 11  2  8  0 13  3 12  1 11  7 12  1 14  1\n",
      " 13  7 10  3 14  1 13  2 11  3  8  7  9  2  8  3 15  2 13  7 15  5 13  3\n",
      " 13  4 11  6 12  4 10  3  9  3 11  4 10  7 10  5 13  6  8  6  8  7 15  5\n",
      " 10  5 14  0 15  0 12  7 14  2  8  6 12  1 14  0  8  4 15  3  9  3 13  2\n",
      " 13  7 15  1 12  1 11  2 14  3  8  1 11  1 12  0 10  1 13  5 15  5 13  6\n",
      "  9  3 12  7  9  0 12  6 13  5 12  5 12  7  8  0 14  6 13  0 11  4  8  2\n",
      " 11  0 12  3  8  0 12  2  8  1 15  3 14  5  8  6  9  5 11  6 14  3 15  3\n",
      "  9  0 13  5  8  5  9  4 14  6  9  0 13  5 14  7 11  6  9  3  8  0 14  5\n",
      " 15  4  9  6  9  1  9  5 11  1 11  2 10  1 14  4 12  5 13  0 11  2 15  5\n",
      " 14  3 14  7  8  4 12  3  9  2 14  1 12  1 11  4 10  0 15  2 12  0 13  4\n",
      " 11  2 14  4 13  7 14  4 10  1 15  0 10  1 12  5 13  6 11  6 10  0 12  3\n",
      "  8  3 10  7 11  7 12  2 15  2 12  0 13  5 15  2  8  3 13  2  9  3 12  2\n",
      " 12  2 12  1 13  4 11  3  9  3 14  5 14  3 15  7 13  1  9  2 13  6  8  1\n",
      " 14  3  9  1  8  6 13  0 15  3 11  6  8  1 10  0 13  0 12  2 12  5 10  4\n",
      " 10  7 13  4 12  0 14  6 11  0 12  6 11  1 14  6  9  7 14  5  9  4  9  0\n",
      " 15  3  9  7  8  4 11  6 13  1 10  4  8  0 13  1 15  3  9  0 15  0 14  4\n",
      " 14  4 10  6  9  3 13  5 15  2 15  4 15  5  9  5 12  6 14  5  9  2 12  3\n",
      " 10  5 12  0  9  2 13  5 12  4 14  7 14  2 13  0  9  5 15  0 11  3 13  4\n",
      " 15  5  9  3 14  5  8  4 14  2  8  7 10  7  9  7 10  5 13  7 15  6  8  6\n",
      " 11  6 14  1 11  4 12  2  8  5 15  2 14  0  8  4 11  3 13  7 10  1 14  0\n",
      "  9  4 11  2 12  3 15  0 10  3  8  7 10  2 15  7 14  0 15  1 13  4 13  6\n",
      "  9  3 14  7 12  5 12  0  9  1 12  6  9  6  9  0 11  5 11  6  8  2 10  2\n",
      " 11  4 15  6  9  7 15  6 12  2 12  2 15  4 10  6 10  4 13  6 15  3 10  5\n",
      "  8  7 12  7 15  7 14  2 12  4 11  6  8  2 11  1 14  6 15  2 12  0 15  3\n",
      " 10  4  9  2 14  4 15  6 13  0 11  5 14  4 13  6 15  2 11  0 14  2 13  1\n",
      " 14  1 11  4 11  4 14  0  8  4  8  1 11  5  9  7 15  6  8  1 15  2 11  5\n",
      " 10  0  8  4 12  7 10  6 10  4 13  4 12  4  9  5  8  3  9  3 10  2 13  7\n",
      "  8  0 10  3 10  5 10  0 15  4 15  4 10  2 12  5 14  7 14  0 14  1 10  0\n",
      " 12  3 14  4 11  3 12  4 15  0 11  1 15  6 13  7 12  7 10  5 12  5 12  7\n",
      " 10  0  8  0  8  1 13  4 14  3 14  7 15  2 10  2  9  2 14  7 10  7  8  5]\n",
      "matches =  []\n",
      "Error\n",
      "gmou31_2021-11-02_10-07-38_bucket\n",
      "Running sync on /n/groups/datta/guitchounts/data/gmou31//gmou31_2021-11-02_10-07-38_bucket/ with ttl as first source and arduino as second source.\n",
      "Assuming sync leds in ttl channels 1-4...\n"
     ]
    },
    {
     "name": "stderr",
     "output_type": "stream",
     "text": [
      "/home/gg121/code/moseq2-ephys-sync/moseq2_ephys_sync/arduino.py:16: FutureWarning: The error_bad_lines argument has been deprecated and will be removed in a future version.\n",
      "\n",
      "\n",
      "  ino_data = load_arduino_data(base_path, arduino_colnames, arduino_dtypes, file_glob='*.txt')\n"
     ]
    },
    {
     "name": "stdout",
     "output_type": "stream",
     "text": [
      "first_source_led_codes[:,1] =  [13.  3. 12.  1. 11.  7. 12.  1. 14.  1. 13.  7. 10.  3. 14.  1. 13.  2.\n",
      " 11.  3.  8.  7.  9.  2.  8.  3. 15.  2. 13.  7. 15.  5. 13.  3. 13.  4.\n",
      " 11.  6. 12.  4. 10.  3.  9.  3. 11.  4. 10.  7. 10.  5. 13.  6.  8.  6.\n",
      "  8.  7. 15.  5. 10.  5. 14.  0. 15.  0. 12.  7. 14.  2.  8.  6. 12.  1.\n",
      " 14.  0.  8.  4. 15.  3.  9.  3. 13.  2. 13.  7. 15.  1. 12.  1. 11.  2.\n",
      " 14.  3.  8.  1. 11.  1. 12.  0. 10.  1. 13.  5. 15.  5. 13.  6.  9.  3.\n",
      " 12.  7.  9.  0. 12.  6. 13.  5. 12.  5. 12.  7.  8.  0. 14.  6. 13.  0.\n",
      " 11.  4.  8.  2. 11.  0. 12.  3.  8.  0. 12.  2.  8.  1. 15.  3. 14.  5.\n",
      "  8.  6.  9.  5. 11.  6. 14.  3. 15.  3.  9.  0. 13.  5.  8.  5.  9.  4.\n",
      " 14.  6.  9.  0. 13.  5. 14.  7. 11.  6.  9.  3.  8.  0. 14.  5. 15.  4.\n",
      "  9.  6.  9.  1.  9.  5. 11.  1. 11.  2. 10.  1. 14.  4. 12.  5. 13.  0.\n",
      " 11.  2. 15.  5. 14.  3. 14.  7.  8.  4. 12.  3.  9.  2. 14.  1. 12.  1.\n",
      " 11.  4. 10.  0. 15.  2. 12.  0. 13.  4. 11.  2. 14.  4. 13.  7. 14.  4.\n",
      " 10.  1. 15.  0. 10.  1. 12.  5. 13.  6. 11.  6. 10.  0. 12.  3.  8.  3.\n",
      " 10.  7. 11.  7. 12.  2. 15.  2. 12.  0. 13.  5. 15.  2.  8.  3. 13.  2.\n",
      "  9.  3. 12.  2. 12.  2. 12.  1. 13.  4. 11.  3.  9.  3. 14.  5. 14.  3.\n",
      " 15.  7. 13.  1.  9.  2. 13.  6.  8.  1. 14.  3.  9.  1.  8.  6. 13.  0.\n",
      " 15.  3. 11.  6.  8.  1. 10.  0. 13.  0. 12.  2. 12.  5. 10.  4. 10.  7.\n",
      " 13.  4. 12.  0. 14.  6. 11.  0. 12.  6. 11.  1. 14.  6.  9.  7. 14.  5.\n",
      "  9.  4.  9.  0. 15.  3.  9.  7.  8.  4. 11.  6. 13.  1. 10.  4.  8.  0.\n",
      " 13.  1. 15.  3.  9.  0. 15.  0. 14.  4. 14.  4. 10.  6.  9.  3. 13.  5.\n",
      " 15.  2. 15.  4. 15.  5.  9.  5. 12.  6. 14.  5.  9.  2. 12.  3. 10.  5.\n",
      " 12.  0.  9.  2. 13.  5. 12.  4. 14.  7. 14.  2. 13.  0.  9.  5. 15.  0.\n",
      " 11.  3. 13.  4. 15.  5.  9.  3. 14.  5.  8.  4. 14.  2.  8.  7. 10.  7.\n",
      "  9.  7. 10.  5. 13.  7. 15.  6.  8.  6. 11.  6. 14.  1. 11.  4. 12.  2.\n",
      "  8.  5. 15.  2. 14.  0.  8.  4. 11.  3. 13.  7. 10.  1. 14.  0.  9.  4.\n",
      " 11.  2. 12.  3. 15.  0. 10.  3.  8.  7. 10.  2. 15.  7. 14.  0. 15.  1.\n",
      " 13.  4. 13.  6.  9.  3. 14.  7. 12.  5. 12.  0.  9.  1. 12.  6.  9.  6.\n",
      "  9.  0. 11.  5. 11.  6.  8.  2. 10.  2. 11.  4. 15.  6.  9.  7. 15.  6.\n",
      " 12.  2. 12.  2. 15.  4. 10.  6. 10.  4. 13.  6. 15.  3. 10.  5.  8.  7.\n",
      " 12.  7. 15.  7. 14.  2. 12.  4. 11.  6.  8.  2. 11.  1. 14.  6. 15.  2.\n",
      " 12.  0. 15.  3. 10.  4.  9.  2. 14.  4. 15.  6. 13.  0. 11.  5. 14.  4.\n",
      " 13.  6. 15.  2. 11.  0. 14.  2. 13.  1. 14.  1. 11.  4. 11.  4. 14.  0.\n",
      "  8.  4.  8.  1. 11.  5.  9.  7. 15.  6.  8.  1. 15.  2. 11.  5. 10.  0.\n",
      "  8.  4. 12.  7. 10.  6. 10.  4. 13.  4. 12.  4.  9.  5.  8.  3.  9.  3.\n",
      " 10.  2. 13.  7.  8.  0. 10.  3. 10.  5. 10.  0. 15.  4. 15.  4. 10.  2.\n",
      " 12.  5. 14.  7. 14.  0. 14.  1. 10.  0. 12.  3. 14.  4. 11.  3. 12.  4.\n",
      " 15.  0. 11.  1. 15.  6. 13.  7. 12.  7. 10.  5. 12.  5. 12.  7. 10.  0.\n",
      "  8.  0.  8.  1. 13.  4. 14.  3. 14.  7. 15.  2. 10.  2.  9.  2. 14.  7.\n",
      " 10.  7.  8.  5. 15.  6. 10.  7. 10.  2. 14.  5. 15.  7. 15.  4. 14.  0.\n",
      " 12.  5. 15.  2. 11.  3. 14.  2. 12.  4. 12.  5. 14.  4.  8.  5. 13.  4.\n",
      "  9.  3. 15.  0. 14.  7. 12.  1. 14.  7.  8.  2. 10.  0. 12.  6. 15.  0.\n",
      "  9.  3. 11.  6. 12.  7.  9.  7.  9.  4.  8.  2.  9.  3. 12.  1. 15.  4.\n",
      " 13.  7. 13.  4.  8.  5. 13.  5. 10.  6. 12.  4. 13.]\n",
      "second_source_led_codes[:,1] =  [ 3 12  1 11  7 12  1 14  1 13  7 10  3 14  1 13  2 11  3  8  7  9  2  8\n",
      "  3 15  2 13  7 15  5 13  3 13  4 11  6 12  4 10  3  9  3 11  4 10  7 10\n",
      "  5 13  6  8  6  8  7 15  5 10  5 14  0 15  0 12  7 14  2  8  6 12  1 14\n",
      "  0  8  4 15  3  9  3 13  2 13  7 15  1 12  1 11  2 14  3  8  1 11  1 12\n",
      "  0 10  1 13  5 15  5 13  6  9  3 12  7  9  0 12  6 13  5 12  5 12  7  8\n",
      "  0 14  6 13  0 11  4  8  2 11  0 12  3  8  0 12  2  8  1 15  3 14  5  8\n",
      "  6  9  5 11  6 14  3 15  3  9  0 13  5  8  5  9  4 14  6  9  0 13  5 14\n",
      "  7 11  6  9  3  8  0 14  5 15  4  9  6  9  1  9  5 11  1 11  2 10  1 14\n",
      "  4 12  5 13  0 11  2 15  5 14  3 14  7  8  4 12  3  9  2 14  1 12  1 11\n",
      "  4 10  0 15  2 12  0 13  4 11  2 14  4 13  7 14  4 10  1 15  0 10  1 12\n",
      "  5 13  6 11  6 10  0 12  3  8  3 10  7 11  7 12  2 15  2 12  0 13  5 15\n",
      "  2  8  3 13  2  9  3 12  2 12  2 12  1 13  4 11  3  9  3 14  5 14  3 15\n",
      "  7 13  1  9  2 13  6  8  1 14  3  9  1  8  6 13  0 15  3 11  6  8  1 10\n",
      "  0 13  0 12  2 12  5 10  4 10  7 13  4 12  0 14  6 11  0 12  6 11  1 14\n",
      "  6  9  7 14  5  9  4  9  0 15  3  9  7  8  4 11  6 13  1 10  4  8  0 13\n",
      "  1 15  3  9  0 15  0 14  4 14  4 10  6  9  3 13  5 15  2 15  4 15  5  9\n",
      "  5 12  6 14  5  9  2 12  3 10  5 12  0  9  2 13  5 12  4 14  7 14  2 13\n",
      "  0  9  5 15  0 11  3 13  4 15  5  9  3 14  5  8  4 14  2  8  7 10  7  9\n",
      "  7 10  5 13  7 15  6  8  6 11  6 14  1 11  4 12  2  8  5 15  2 14  0  8\n",
      "  4 11  3 13  7 10  1 14  0  9  4 11  2 12  3 15  0 10  3  8  7 10  2 15\n",
      "  7 14  0 15  1 13  4 13  6  9  3 14  7 12  5 12  0  9  1 12  6  9  6  9\n",
      "  0 11  5 11  6  8  2 10  2 11  4 15  6  9  7 15  6 12  2 12  2 15  4 10\n",
      "  6 10  4 13  6 15  3 10  5  8  7 12  7 15  7 14  2 12  4 11  6  8  2 11\n",
      "  1 14  6 15  2 12  0 15  3 10  4  9  2 14  4 15  6 13  0 11  5 14  4 13\n",
      "  6 15  2 11  0 14  2 13  1 14  1 11  4 11  4 14  0  8  4  8  1 11  5  9\n",
      "  7 15  6  8  1 15  2 11  5 10  0  8  4 12  7 10  6 10  4 13  4 12  4  9\n",
      "  5  8  3  9  3 10  2 13  7  8  0 10  3 10  5 10  0 15  4 15  4 10  2 12\n",
      "  5 14  7 14  0 14  1 10  0 12  3 14  4 11  3 12  4 15  0 11  1 15  6 13\n",
      "  7 12  7 10  5 12  5 12  7 10  0  8  0  8  1 13  4 14  3 14  7 15  2 10\n",
      "  2  9  2 14  7 10]\n",
      "matches =  [[   8.70506667  106.        ]\n",
      " [  13.70696667  111.        ]\n",
      " [  18.7071      116.        ]\n",
      " ...\n",
      " [3662.30703333 3759.        ]\n",
      " [3667.30806667 3764.        ]\n",
      " [3672.31246667 3769.        ]]\n"
     ]
    },
    {
     "name": "stderr",
     "output_type": "stream",
     "text": [
      "[Parallel(n_jobs=1)]: Using backend SequentialBackend with 1 concurrent workers.\n",
      "[Parallel(n_jobs=1)]: Done   4 out of   4 | elapsed:    0.0s finished\n"
     ]
    },
    {
     "name": "stdout",
     "output_type": "stream",
     "text": [
      "Saved model that predicts ttl from arduino\n"
     ]
    },
    {
     "name": "stderr",
     "output_type": "stream",
     "text": [
      "[Parallel(n_jobs=1)]: Using backend SequentialBackend with 1 concurrent workers.\n",
      "[Parallel(n_jobs=1)]: Done   4 out of   4 | elapsed:    0.0s finished\n"
     ]
    },
    {
     "name": "stdout",
     "output_type": "stream",
     "text": [
      "Saved model that predicts arduino from ttl\n",
      "Syncing complete. FIN\n",
      "gmou31_2021-11-03_11-51-03_odor\n",
      "Running sync on /n/groups/datta/guitchounts/data/gmou31//gmou31_2021-11-03_11-51-03_odor/ with ttl as first source and arduino as second source.\n",
      "Assuming sync leds in ttl channels 1-4...\n"
     ]
    },
    {
     "name": "stderr",
     "output_type": "stream",
     "text": [
      "/home/gg121/code/moseq2-ephys-sync/moseq2_ephys_sync/arduino.py:16: FutureWarning: The error_bad_lines argument has been deprecated and will be removed in a future version.\n",
      "\n",
      "\n",
      "  ino_data = load_arduino_data(base_path, arduino_colnames, arduino_dtypes, file_glob='*.txt')\n",
      "/home/gg121/anaconda3/envs/sync_test/lib/python3.7/site-packages/pandas/util/_decorators.py:311: ParserWarning: Falling back to the 'python' engine because the 'c' engine does not support skipfooter; you can avoid this warning by specifying engine='python'.\n",
      "  return func(*args, **kwargs)\n",
      "/home/gg121/code/moseq2-ephys-sync/moseq2_ephys_sync/arduino.py:16: FutureWarning: The warn_bad_lines argument has been deprecated and will be removed in a future version.\n",
      "\n",
      "\n",
      "  ino_data = load_arduino_data(base_path, arduino_colnames, arduino_dtypes, file_glob='*.txt')\n"
     ]
    },
    {
     "name": "stdout",
     "output_type": "stream",
     "text": [
      "first_source_led_codes[:,1] =  [1. 0. 6. 0. 3. 7. 2. 0. 1. 0. 3. 2. 0. 5. 3. 4. 1. 3. 7. 4. 1. 6. 1. 5.\n",
      " 7. 2. 3. 6. 1. 5. 2. 3. 0. 7. 1. 2. 0. 3. 7. 2. 5. 7. 5. 3. 5. 4. 3. 6.\n",
      " 4. 2. 3. 1. 3. 4. 2. 7. 2. 5. 6. 0. 6. 0. 7. 5. 2. 5. 6. 0. 7. 0. 4. 7.\n",
      " 6. 2. 0. 6. 4. 1. 6. 0. 4. 7. 3. 1. 3. 5. 2. 5. 7. 1. 4. 1. 3. 2. 6. 3.\n",
      " 0. 1. 3. 1. 4. 0. 2. 1. 5. 7. 5. 6. 1. 3. 4. 7. 1. 0. 4. 6. 5. 4. 5. 4.\n",
      " 7. 0. 6. 5. 0. 3. 4. 0. 2. 3. 0. 4. 3. 0. 4. 2. 0. 1. 7. 3. 6. 5. 0. 6.\n",
      " 1. 5. 3. 6. 3. 7. 3. 1. 0. 5. 0. 5. 1. 4. 6. 1. 0. 5. 6. 7. 3. 6. 1. 3.\n",
      " 0. 6. 5. 7. 4. 1. 6. 1. 5. 3. 1. 3. 2. 1. 6. 4. 5. 0. 3. 2. 7. 5. 6. 3.\n",
      " 6. 7. 0. 4. 3. 1. 2. 6. 1. 4. 1. 3. 4. 2. 0. 7. 2. 4. 0. 5. 4. 3. 2. 6.\n",
      " 4. 5. 7. 6. 4. 2. 1. 7. 0. 2. 1. 4. 5. 6. 3. 6. 2. 0. 4. 3. 0. 3. 2. 7.\n",
      " 3. 7. 4. 2. 7. 2. 4. 0. 5. 7. 2. 0. 3. 5. 2. 1. 3. 4. 2. 4. 2. 4. 1. 5.\n",
      " 4. 3. 1. 3. 6. 5. 6. 3. 7. 5. 1. 2. 5. 6. 0. 1. 6. 3. 1. 0. 6. 5. 0. 7.\n",
      " 3. 6. 0. 1. 2. 0. 5. 0. 4. 2. 4. 5. 2. 4. 2. 7. 5. 4. 0. 6. 3. 0. 4. 6.\n",
      " 3. 1. 6. 1. 7. 6. 5. 1. 4. 1. 0. 7. 3. 1. 7. 0. 4. 3. 6. 5. 1. 2. 4. 0.\n",
      " 5. 1. 7. 3. 1. 0. 7. 0. 6. 4. 6. 4. 2. 6. 1. 3. 5. 7. 2. 7. 4. 7. 5. 1.\n",
      " 5. 4. 6. 5. 1. 2. 4. 3. 2. 5. 4. 0. 1. 2. 5. 4. 6. 7. 6. 2. 5. 0. 1. 5.\n",
      " 7. 0. 3. 5. 4. 7. 5. 1. 3. 6. 5. 0. 4. 6. 2. 0. 7. 2. 7. 1. 7. 2. 5. 7.\n",
      " 6. 0. 6. 3. 6. 1. 3. 4. 2. 0. 5. 7. 2. 6. 0. 4. 3. 5. 7. 2. 1. 6. 0. 1.\n",
      " 4. 3. 2. 4. 3. 7. 0. 2. 3. 0. 7. 2. 7. 6. 0. 7. 1. 5. 4. 5. 6. 1. 3. 6.\n",
      " 7. 4. 5. 4. 0. 1. 4. 6. 1. 6. 1. 0. 3. 5. 3. 6. 0. 2. 3. 4. 7. 6. 1. 7.\n",
      " 6. 4. 2. 4. 2. 7. 4. 2. 6. 2. 4. 5. 6. 7. 3. 2. 5. 0. 7. 4. 7. 6. 2. 4.\n",
      " 3. 6. 0. 2. 3. 1. 6. 7. 2. 4. 0. 7. 3. 2. 4. 1. 2. 6. 4. 7. 6. 5. 0. 3.\n",
      " 5. 6. 4. 5. 6. 7. 2. 3. 0. 6. 2. 5. 1. 6. 1. 3. 4. 3. 4. 6. 0. 4. 0. 1.\n",
      " 3. 5. 1. 7. 6. 0. 1. 7. 2. 3. 5. 2. 0. 4. 7. 2. 6. 2. 4. 5. 4. 1. 5. 0.\n",
      " 3. 1. 3. 2. 5. 7. 0. 2. 3. 2. 5. 2. 0. 7. 4. 7. 4. 2. 4. 5. 6. 7. 6. 0.\n",
      " 6. 1. 2. 0. 4. 3. 6. 4. 3. 4. 7. 0. 3. 1. 7. 6. 5. 7. 4. 7. 2. 5. 4. 5.\n",
      " 4. 7. 2. 0. 1. 5. 4. 6. 3. 6. 7. 2. 1. 2. 6. 7. 2.]\n",
      "second_source_led_codes[:,1] =  [14  6 10  1  8  6  8  3 11  7 10  0  9  0 11  2  8  0 13  3 12  1 11  7\n",
      " 12  1 14  1 13  7 10  3 14  1 13  2 11  3  8  7  9  2  8  3 15  2 13  7\n",
      " 15  5 13  3 13  4 11  6 12  4 10  3  9  3 11  4 10  7 10  5 13  6  8  6\n",
      "  8  7 15  5 10  5 14  0 15  0 12  7 14  2  8  6 12  1 14  0  8  4 15  3\n",
      "  9  3 13  2 13  7 15  1 12  1 11  2 14  3  8  1 11  1 12  0 10  1 13  5\n",
      " 15  5 13  6  9  3 12  7  9  0 12  6 13  5 12  5 12  7  8  0 14  6 13  0\n",
      " 11  4  8  2 11  0 12  3  8  0 12  2  8  1 15  3 14  5  8  6  9  5 11  6\n",
      " 14  3 15  3  9  0 13  5  8  5  9  4 14  6  9  0 13  5 14  7 11  6  9  3\n",
      "  8  0 14  5 15  4  9  6  9  1  9  5 11  1 11  2 10  1 14  4 12  5 13  0\n",
      " 11  2 15  5 14  3 14  7  8  4 12  3  9  2 14  1 12  1 11  4 10  0 15  2\n",
      " 12  0 13  4 11  2 14  4 13  7 14  4 10  1 15  0 10  1 12  5 13  6 11  6\n",
      " 10  0 12  3  8  3 10  7 11  7 12  2 15  2 12  0 13  5 15  2  8  3 13  2\n",
      "  9  3 12  2 12  2 12  1 13  4 11  3  9  3 14  5 14  3 15  7 13  1  9  2\n",
      " 13  6  8  1 14  3  9  1  8  6 13  0 15  3 11  6  8  1 10  0 13  0 12  2\n",
      " 12  5 10  4 10  7 13  4 12  0 14  6 11  0 12  6 11  1 14  6  9  7 14  5\n",
      "  9  4  9  0 15  3  9  7  8  4 11  6 13  1 10  4  8  0 13  1 15  3  9  0\n",
      " 15  0 14  4 14  4 10  6  9  3 13  5 15  2 15  4 15  5  9  5 12  6 14  5\n",
      "  9  2 12  3 10  5 12  0  9  2 13  5 12  4 14  7 14  2 13  0  9  5 15  0\n",
      " 11  3 13  4 15  5  9  3 14  5  8  4 14  2  8  7 10  7  9  7 10  5 13  7\n",
      " 15  6  8  6 11  6 14  1 11  4 12  2  8  5 15  2 14  0  8  4 11  3 13  7\n",
      " 10  1 14  0  9  4 11  2 12  3 15  0 10  3  8  7 10  2 15  7 14  0 15  1\n",
      " 13  4 13  6  9  3 14  7 12  5 12  0  9  1 12  6  9  6  9  0 11  5 11  6\n",
      "  8  2 10  2 11  4 15  6  9  7 15  6 12  2 12  2 15  4 10  6 10  4 13  6\n",
      " 15  3 10  5  8  7 12  7 15  7 14  2 12  4 11  6  8  2 11  1 14  6 15  2\n",
      " 12  0 15  3 10  4  9  2 14  4 15  6 13  0 11  5 14  4 13  6 15  2 11  0\n",
      " 14  2 13  1 14  1 11  4 11  4 14  0  8  4  8  1 11  5  9  7 15  6  8  1\n",
      " 15  2 11  5 10  0  8  4 12  7 10  6 10  4 13  4 12  4  9  5  8  3  9  3\n",
      " 10  2 13  7  8  0 10  3 10  5 10  0 15  4 15  4 10  2 12  5 14  7 14  0\n",
      " 14  1 10  0 12  3 14  4 11  3 12  4 15  0 11  1 15  6 13  7 12  7 10  5\n",
      " 12  5 12  7 10  0  8  0  8  1 13  4 14  3 14  7 15  2 10  2  9  2 14  7\n",
      " 10  7]\n",
      "matches =  []\n",
      "Error\n",
      "gmou31_2021-11-03_13-12-37_bucket\n",
      "Running sync on /n/groups/datta/guitchounts/data/gmou31//gmou31_2021-11-03_13-12-37_bucket/ with ttl as first source and arduino as second source.\n",
      "Assuming sync leds in ttl channels 1-4...\n"
     ]
    },
    {
     "name": "stderr",
     "output_type": "stream",
     "text": [
      "/home/gg121/code/moseq2-ephys-sync/moseq2_ephys_sync/arduino.py:16: FutureWarning: The error_bad_lines argument has been deprecated and will be removed in a future version.\n",
      "\n",
      "\n",
      "  ino_data = load_arduino_data(base_path, arduino_colnames, arduino_dtypes, file_glob='*.txt')\n"
     ]
    },
    {
     "name": "stdout",
     "output_type": "stream",
     "text": [
      "first_source_led_codes[:,1] =  [ 7. 10.  0.  9.  0. 11.  2.  8.  0. 13.  3. 12.  1. 11.  7. 12.  1. 14.\n",
      "  1. 13.  7. 10.  3. 14.  1. 13.  2. 11.  3.  8.  7.  9.  2.  8.  3. 15.\n",
      "  2. 13.  7. 15.  5. 13.  3. 13.  4. 11.  6. 12.  4. 10.  3.  9.  3. 11.\n",
      "  4. 10.  7. 10.  5. 13.  6.  8.  6.  8.  7. 15.  5. 10.  5. 14.  0. 15.\n",
      "  0. 12.  7. 14.  2.  8.  6. 12.  1. 14.  0.  8.  4. 15.  3.  9.  3. 13.\n",
      "  2. 13.  7. 15.  1. 12.  1. 11.  2. 14.  3.  8.  1. 11.  1. 12.  0. 10.\n",
      "  1. 13.  5. 15.  5. 13.  6.  9.  3. 12.  7.  9.  0. 12.  6. 13.  5. 12.\n",
      "  5. 12.  7.  8.  0. 14.  6. 13.  0. 11.  4.  8.  2. 11.  0. 12.  3.  8.\n",
      "  0. 12.  2.  8.  1. 15.  3. 14.  5.  8.  6.  9.  5. 11.  6. 14.  3. 15.\n",
      "  3.  9.  0. 13.  5.  8.  5.  9.  4. 14.  6.  9.  0. 13.  5. 14.  7. 11.\n",
      "  6.  9.  3.  8.  0. 14.  5. 15.  4.  9.  6.  9.  1.  9.  5. 11.  1. 11.\n",
      "  2. 10.  1. 14.  4. 12.  5. 13.  0. 11.  2. 15.  5. 14.  3. 14.  7.  8.\n",
      "  4. 12.  3.  9.  2. 14.  1. 12.  1. 11.  4. 10.  0. 15.  2. 12.  0. 13.\n",
      "  4. 11.  2. 14.  4. 13.  7. 14.  4. 10.  1. 15.  0. 10.  1. 12.  5. 13.\n",
      "  6. 11.  6. 10.  0. 12.  3.  8.  3. 10.  7. 11.  7. 12.  2. 15.  2. 12.\n",
      "  0. 13.  5. 15.  2.  8.  3. 13.  2.  9.  3. 12.  2. 12.  2. 12.  1. 13.\n",
      "  4. 11.  3.  9.  3. 14.  5. 14.  3. 15.  7. 13.  1.  9.  2. 13.  6.  8.\n",
      "  1. 14.  3.  9.  1.  8.  6. 13.  0. 15.  3. 11.  6.  8.  1. 10.  0. 13.\n",
      "  0. 12.  2. 12.  5. 10.  4. 10.  7. 13.  4. 12.  0. 14.  6. 11.  0. 12.\n",
      "  6. 11.  1. 14.  6.  9.  7. 14.  5.  9.  4.  9.  0. 15.  3.  9.  7.  8.\n",
      "  4. 11.  6. 13.  1. 10.  4.  8.  0. 13.  1. 15.  3.  9.  0. 15.  0. 14.\n",
      "  4. 14.  4. 10.  6.  9.  3. 13.  5. 15.  2. 15.  4. 15.  5.  9.  5. 12.\n",
      "  6. 14.  5.  9.  2. 12.  3. 10.  5. 12.  0.  9.  2. 13.  5. 12.  4. 14.\n",
      "  7. 14.  2. 13.  0.  9.  5. 15.  0. 11.  3. 13.  4. 15.  5.  9.  3. 14.\n",
      "  5.  8.  4. 14.  2.  8.  7. 10.  7.  9.  7. 10.  5. 13.  7. 15.  6.  8.\n",
      "  6. 11.  6. 14.  1. 11.  4. 12.  2.  8.  5. 15.  2. 14.  0.  8.  4. 11.\n",
      "  3. 13.  7. 10.  1. 14.  0.  9.  4. 11.  2. 12.  3. 15.  0. 10.  3.  8.\n",
      "  7. 10.  2. 15.  7. 14.  0. 15.  1. 13.  4. 13.  6.  9.  3. 14.  7. 12.\n",
      "  5. 12.  0.  9.  1. 12.  6.  9.  6.  9.  0. 11.  5. 11.  6.  8.  2. 10.\n",
      "  2. 11.  4. 15.  6.  9.  7. 15.  6. 12.  2. 12.  2. 15.  4. 10.  6. 10.\n",
      "  4. 13.  6. 15.  3. 10.  5.  8.  7. 12.  7. 15.  7. 14.  2. 12.  4. 11.]\n",
      "second_source_led_codes[:,1] =  [10  0  9  0 11  2  8  0 13  3 12  1 11  7 12  1 14  1 13  7 10  3 14  1\n",
      " 13  2 11  3  8  7  9  2  8  3 15  2 13  7 15  5 13  3 13  4 11  6 12  4\n",
      " 10  3  9  3 11  4 10  7 10  5 13  6  8  6  8  7 15  5 10  5 14  0 15  0\n",
      " 12  7 14  2  8  6 12  1 14  0  8  4 15  3  9  3 13  2 13  7 15  1 12  1\n",
      " 11  2 14  3  8  1 11  1 12  0 10  1 13  5 15  5 13  6  9  3 12  7  9  0\n",
      " 12  6 13  5 12  5 12  7  8  0 14  6 13  0 11  4  8  2 11  0 12  3  8  0\n",
      " 12  2  8  1 15  3 14  5  8  6  9  5 11  6 14  3 15  3  9  0 13  5  8  5\n",
      "  9  4 14  6  9  0 13  5 14  7 11  6  9  3  8  0 14  5 15  4  9  6  9  1\n",
      "  9  5 11  1 11  2 10  1 14  4 12  5 13  0 11  2 15  5 14  3 14  7  8  4\n",
      " 12  3  9  2 14  1 12  1 11  4 10  0 15  2 12  0 13  4 11  2 14  4 13  7\n",
      " 14  4 10  1 15  0 10  1 12  5 13  6 11  6 10  0 12  3  8  3 10  7 11  7\n",
      " 12  2 15  2 12  0 13  5 15  2  8  3 13  2  9  3 12  2 12  2 12  1 13  4\n",
      " 11  3  9  3 14  5 14  3 15  7 13  1  9  2 13  6  8  1 14  3  9  1  8  6\n",
      " 13  0 15  3 11  6  8  1 10  0 13  0 12  2 12  5 10  4 10  7 13  4 12  0\n",
      " 14  6 11  0 12  6 11  1 14  6  9  7 14  5  9  4  9  0 15  3  9  7  8  4\n",
      " 11  6 13  1 10  4  8  0 13  1 15  3  9  0 15  0 14  4 14  4 10  6  9  3\n",
      " 13  5 15  2 15  4 15  5  9  5 12  6 14  5  9  2 12  3 10  5 12  0  9  2\n",
      " 13  5 12  4 14  7 14  2 13  0  9  5 15  0 11  3 13  4 15  5  9  3 14  5\n",
      "  8  4 14  2  8  7 10  7  9  7 10  5 13  7 15  6  8  6 11  6 14  1 11  4\n",
      " 12  2  8  5 15  2 14  0  8  4 11  3 13  7 10  1 14  0  9  4 11  2 12  3\n",
      " 15  0 10  3  8  7 10  2 15  7 14  0 15  1 13  4 13  6  9  3 14  7 12  5\n",
      " 12  0  9  1 12  6  9  6  9  0 11  5 11  6  8  2 10  2 11  4 15  6  9  7\n",
      " 15  6 12  2 12  2 15  4 10  6 10  4 13  6 15  3 10  5  8  7 12  7 15  7\n",
      " 14  2 12  4 11]\n",
      "matches =  [[   5.27656667   55.        ]\n",
      " [  10.27906667   60.        ]\n",
      " [  15.28136667   65.        ]\n",
      " ...\n",
      " [2814.80003333 2864.        ]\n",
      " [2822.55993333 2872.        ]\n",
      " [2877.839      2927.        ]]\n"
     ]
    },
    {
     "name": "stderr",
     "output_type": "stream",
     "text": [
      "[Parallel(n_jobs=1)]: Using backend SequentialBackend with 1 concurrent workers.\n",
      "[Parallel(n_jobs=1)]: Done   4 out of   4 | elapsed:    0.0s finished\n"
     ]
    },
    {
     "name": "stdout",
     "output_type": "stream",
     "text": [
      "Saved model that predicts ttl from arduino\n"
     ]
    },
    {
     "name": "stderr",
     "output_type": "stream",
     "text": [
      "[Parallel(n_jobs=1)]: Using backend SequentialBackend with 1 concurrent workers.\n",
      "[Parallel(n_jobs=1)]: Done   4 out of   4 | elapsed:    0.0s finished\n"
     ]
    },
    {
     "name": "stdout",
     "output_type": "stream",
     "text": [
      "Saved model that predicts arduino from ttl\n",
      "Syncing complete. FIN\n",
      "gmou31_2021-11-04_11-34-41_bucket\n",
      "Running sync on /n/groups/datta/guitchounts/data/gmou31//gmou31_2021-11-04_11-34-41_bucket/ with ttl as first source and arduino as second source.\n",
      "Assuming sync leds in ttl channels 1-4...\n"
     ]
    },
    {
     "name": "stderr",
     "output_type": "stream",
     "text": [
      "/home/gg121/code/moseq2-ephys-sync/moseq2_ephys_sync/arduino.py:16: FutureWarning: The error_bad_lines argument has been deprecated and will be removed in a future version.\n",
      "\n",
      "\n",
      "  ino_data = load_arduino_data(base_path, arduino_colnames, arduino_dtypes, file_glob='*.txt')\n"
     ]
    },
    {
     "name": "stdout",
     "output_type": "stream",
     "text": [
      "first_source_led_codes[:,1] =  [ 8.  3. 11.  7. 10.  0.  9.  0. 11.  2.  8.  0. 13.  3. 12.  1. 11.  7.\n",
      " 12.  1. 14.  1. 13.  7. 10.  3. 14.  1. 13.  2. 11.  3.  8.  7.  9.  2.\n",
      "  8.  3. 15.  2. 13.  7. 15.  5. 13.  3. 13.  4. 11.  6. 12.  4. 10.  3.\n",
      "  9.  3. 11.  4. 10.  7. 10.  5. 13.  6.  8.  6.  8.  7. 15.  5. 10.  5.\n",
      " 14.  0. 15.  0. 12.  7. 14.  2.  8.  6. 12.  1. 14.  0.  8.  4. 15.  3.\n",
      "  9.  3. 13.  2. 13.  7. 15.  1. 12.  1. 11.  2. 14.  3.  8.  1. 11.  1.\n",
      " 12.  0. 10.  1. 13.  5. 15.  5. 13.  6.  9.  3. 12.  7.  9.  0. 12.  6.\n",
      " 13.  5. 12.  5. 12.  7.  8.  0. 14.  6. 13.  0. 11.  4.  8.  2. 11.  0.\n",
      " 12.  3.  8.  0. 12.  2.  8.  1. 15.  3. 14.  5.  8.  6.  9.  5. 11.  6.\n",
      " 14.  3. 15.  3.  9.  0. 13.  5.  8.  5.  9.  4. 14.  6.  9.  0. 13.  5.\n",
      " 14.  7. 11.  6.  9.  3.  8.  0. 14.  5. 15.  4.  9.  6.  9.  1.  9.  5.\n",
      " 11.  1. 11.  2. 10.  1. 14.  4. 12.  5. 13.  0. 11.  2. 15.  5. 14.  3.\n",
      " 14.  7.  8.  4. 12.  3.  9.  2. 14.  1. 12.  1. 11.  4. 10.  0. 15.  2.\n",
      " 12.  0. 13.  4. 11.  2. 14.  4. 13.  7. 14.  4. 10.  1. 15.  0. 10.  1.\n",
      " 12.  5. 13.  6. 11.  6. 10.  0. 12.  3.  8.  3. 10.  7. 11.  7. 12.  2.\n",
      " 15.  2. 12.  0. 13.  5. 15.  2.  8.  3. 13.  2.  9.  3. 12.  2. 12.  2.\n",
      " 12.  1. 13.  4. 11.  3.  9.  3. 14.  5. 14.  3. 15.  7. 13.  1.  9.  2.\n",
      " 13.  6.  8.  1. 14.  3.  9.  1.  8.  6. 13.  0. 15.  3. 11.  6.  8.  1.\n",
      " 10.  0. 13.  0. 12.  2. 12.  5. 10.  4. 10.  7. 13.  4. 12.  0. 14.  6.\n",
      " 11.  0. 12.  6. 11.  1. 14.  6.  9.  7. 14.  5.  9.  4.  9.  0. 15.  3.\n",
      "  9.  7.  8.  4. 11.  6. 13.  1. 10.  4.  8.  0. 13.  1. 15.  3.  9.  0.\n",
      " 15.  0. 14.  4. 14.  4. 10.  6.  9.  3. 13.  5. 15.  2. 15.  4. 15.  5.\n",
      "  9.  5. 12.  6. 14.  5.  9.  2. 12.  3. 10.  5. 12.  0.  9.  2. 13.  5.\n",
      " 12.  4. 14.  7. 14.  2. 13.  0.  9.  5. 15.  0. 11.  3. 13.  4. 15.  5.\n",
      "  9.  3. 14.  5.  8.  4. 14.  2.  8.  7. 10.  7.  9.  7. 10.  5. 13.  7.\n",
      " 15.  6.  8.  6. 11.  6. 14.  1. 11.  4. 12.  2.  8.  5. 15.  2. 14.  0.\n",
      "  8.  4. 11.  3. 13.  7. 10.  1. 14.  0.  9.  4. 11.  2. 12.  3. 15.  0.\n",
      " 10.  3.  8.  7. 10.  2. 15.  7. 14.  0. 15.  1. 13.  4. 13.  6.  9.  3.\n",
      " 14.  7. 12.  5. 12.  0.  9.  1. 12.  6.  9.  6.  9.  0. 11.  5. 11.  6.\n",
      "  8.  2. 10.  2. 11.  4. 15.  6.  9.  7. 15.  6. 12.  2. 12.  2. 15.  4.\n",
      " 10.  6. 10.  4. 13.  6. 15.  3. 10.  5.  8.  7. 12.  7. 15.  7. 14.  2.\n",
      " 12.  4. 11.  6.  8.  2. 11.  1. 14.  6. 15.  2. 12.  0. 15.  3. 10.  4.\n",
      "  9.  2. 14.  4. 15.  6. 13.  0. 11.  5. 14.  4. 13.  6. 15.  2. 11.  0.\n",
      " 14.]\n",
      "second_source_led_codes[:,1] =  [ 6  8  3 11  7 10  0  9  0 11  2  8  0 13  3 12  1 11  7 12  1 14  1 13\n",
      "  7 10  3 14  1 13  2 11  3  8  7  9  2  8  3 15  2 13  7 15  5 13  3 13\n",
      "  4 11  6 12  4 10  3  9  3 11  4 10  7 10  5 13  6  8  6  8  7 15  5 10\n",
      "  5 14  0 15  0 12  7 14  2  8  6 12  1 14  0  8  4 15  3  9  3 13  2 13\n",
      "  7 15  1 12  1 11  2 14  3  8  1 11  1 12  0 10  1 13  5 15  5 13  6  9\n",
      "  3 12  7  9  0 12  6 13  5 12  5 12  7  8  0 14  6 13  0 11  4  8  2 11\n",
      "  0 12  3  8  0 12  2  8  1 15  3 14  5  8  6  9  5 11  6 14  3 15  3  9\n",
      "  0 13  5  8  5  9  4 14  6  9  0 13  5 14  7 11  6  9  3  8  0 14  5 15\n",
      "  4  9  6  9  1  9  5 11  1 11  2 10  1 14  4 12  5 13  0 11  2 15  5 14\n",
      "  3 14  7  8  4 12  3  9  2 14  1 12  1 11  4 10  0 15  2 12  0 13  4 11\n",
      "  2 14  4 13  7 14  4 10  1 15  0 10  1 12  5 13  6 11  6 10  0 12  3  8\n",
      "  3 10  7 11  7 12  2 15  2 12  0 13  5 15  2  8  3 13  2  9  3 12  2 12\n",
      "  2 12  1 13  4 11  3  9  3 14  5 14  3 15  7 13  1  9  2 13  6  8  1 14\n",
      "  3  9  1  8  6 13  0 15  3 11  6  8  1 10  0 13  0 12  2 12  5 10  4 10\n",
      "  7 13  4 12  0 14  6 11  0 12  6 11  1 14  6  9  7 14  5  9  4  9  0 15\n",
      "  3  9  7  8  4 11  6 13  1 10  4  8  0 13  1 15  3  9  0 15  0 14  4 14\n",
      "  4 10  6  9  3 13  5 15  2 15  4 15  5  9  5 12  6 14  5  9  2 12  3 10\n",
      "  5 12  0  9  2 13  5 12  4 14  7 14  2 13  0  9  5 15  0 11  3 13  4 15\n",
      "  5  9  3 14  5  8  4 14  2  8  7 10  7  9  7 10  5 13  7 15  6  8  6 11\n",
      "  6 14  1 11  4 12  2  8  5 15  2 14  0  8  4 11  3 13  7 10  1 14  0  9\n",
      "  4 11  2 12  3 15  0 10  3  8  7 10  2 15  7 14  0 15  1 13  4 13  6  9\n",
      "  3 14  7 12  5 12  0  9  1 12  6  9  6  9  0 11  5 11  6  8  2 10  2 11\n",
      "  4 15  6  9  7 15  6 12  2 12  2 15  4 10  6 10  4 13  6 15  3 10  5  8\n",
      "  7 12  7 15  7 14  2 12  4 11  6  8  2 11  1 14  6 15  2 12  0 15  3 10\n",
      "  4  9  2 14  4 15  6 13  0 11  5 14  4 13  6 15  2 11  0 14  2]\n",
      "matches =  [[7.70633333e-01 3.50000000e+01]\n",
      " [5.77163333e+00 4.00000000e+01]\n",
      " [1.07735667e+01 4.50000000e+01]\n",
      " ...\n",
      " [3.58750163e+03 3.62100000e+03]\n",
      " [3.59250230e+03 3.62600000e+03]\n",
      " [3.59750410e+03 3.63100000e+03]]\n"
     ]
    },
    {
     "name": "stderr",
     "output_type": "stream",
     "text": [
      "[Parallel(n_jobs=1)]: Using backend SequentialBackend with 1 concurrent workers.\n",
      "[Parallel(n_jobs=1)]: Done   4 out of   4 | elapsed:    0.0s finished\n"
     ]
    },
    {
     "name": "stdout",
     "output_type": "stream",
     "text": [
      "Saved model that predicts ttl from arduino\n"
     ]
    },
    {
     "name": "stderr",
     "output_type": "stream",
     "text": [
      "[Parallel(n_jobs=1)]: Using backend SequentialBackend with 1 concurrent workers.\n",
      "[Parallel(n_jobs=1)]: Done   4 out of   4 | elapsed:    0.0s finished\n"
     ]
    },
    {
     "name": "stdout",
     "output_type": "stream",
     "text": [
      "Saved model that predicts arduino from ttl\n",
      "Syncing complete. FIN\n",
      "gmou31_2021-11-04_12-44-45_odor\n",
      "Running sync on /n/groups/datta/guitchounts/data/gmou31//gmou31_2021-11-04_12-44-45_odor/ with ttl as first source and arduino as second source.\n",
      "Assuming sync leds in ttl channels 1-4...\n"
     ]
    },
    {
     "name": "stderr",
     "output_type": "stream",
     "text": [
      "/home/gg121/code/moseq2-ephys-sync/moseq2_ephys_sync/arduino.py:16: FutureWarning: The error_bad_lines argument has been deprecated and will be removed in a future version.\n",
      "\n",
      "\n",
      "  ino_data = load_arduino_data(base_path, arduino_colnames, arduino_dtypes, file_glob='*.txt')\n"
     ]
    },
    {
     "name": "stdout",
     "output_type": "stream",
     "text": [
      "first_source_led_codes[:,1] =  [0. 6. 0. 3. 7. 2. 0. 1. 0. 3. 2. 0. 5. 3. 4. 1. 3. 7. 4. 1. 6. 1. 5. 7.\n",
      " 2. 3. 6. 1. 5. 2. 3. 0. 7. 1. 2. 0. 3. 7. 2. 5. 7. 5. 3. 5. 4. 3. 6. 4.\n",
      " 2. 3. 1. 3. 4. 2. 7. 2. 5. 6. 0. 6. 0. 7. 5. 2. 5. 6. 0. 7. 0. 4. 7. 6.\n",
      " 2. 0. 6. 4. 1. 6. 0. 4. 7. 3. 1. 3. 5. 2. 5. 7. 1. 4. 1. 3. 2. 6. 3. 0.\n",
      " 1. 3. 1. 4. 0. 2. 1. 5. 7. 5. 6. 1. 3. 4. 7. 1. 0. 4. 6. 5. 4. 5. 4. 7.\n",
      " 0. 6. 5. 0. 3. 4. 0. 2. 3. 0. 4. 3. 0. 4. 2. 0. 1. 7. 3. 6. 5. 0. 6. 1.\n",
      " 5. 3. 6. 3. 7. 3. 1. 0. 5. 0. 5. 1. 4. 6. 1. 0. 5. 6. 7. 3. 6. 1. 3. 0.\n",
      " 6. 5. 7. 4. 1. 6. 1. 5. 3. 1. 3. 2. 1. 6. 4. 5. 0. 3. 2. 7. 5. 6. 3. 6.\n",
      " 7. 0. 4. 3. 1. 2. 6. 1. 4. 1. 3. 4. 2. 0. 7. 2. 4. 0. 5. 4. 3. 2. 6. 4.\n",
      " 5. 7. 6. 4. 2. 1. 7. 0. 2. 1. 4. 5. 6. 3. 6. 2. 0. 4. 3. 0. 3. 2. 7. 3.\n",
      " 7. 4. 2. 7. 2. 4. 0. 5. 7. 2. 0. 3. 5. 2. 1. 3. 4. 2. 4. 2. 4. 1. 5. 4.\n",
      " 3. 1. 3. 6. 5. 6. 3. 7. 5. 1. 2. 5. 6. 0. 1. 6. 3. 1. 0. 6. 5. 0. 7. 3.\n",
      " 6. 0. 1. 2. 0. 5. 0. 4. 2. 4. 5. 2. 4. 2. 7. 5. 4. 0. 6. 3. 0. 4. 6. 3.\n",
      " 1. 6. 1. 7. 6. 5. 1. 4. 1. 0. 7. 3. 1. 7. 0. 4. 3. 6. 5. 1. 2. 4. 0. 5.\n",
      " 1. 7. 3. 1. 0. 7. 0. 6. 4. 6. 4. 2. 6. 1. 3. 5. 7. 2. 7. 4. 7. 5. 1. 5.\n",
      " 4. 6. 5. 1. 2. 4. 3. 2. 5. 4. 0. 1. 2. 5. 4. 6. 7. 6. 2. 5. 0. 1. 5. 7.\n",
      " 0. 3. 5. 4. 7. 5. 1. 3. 6. 5. 0. 4. 6. 2. 0. 7. 2. 7. 1. 7. 2. 5. 7. 6.\n",
      " 0. 6. 3. 6. 1. 3. 4. 2. 0. 5. 7. 2. 6. 0. 4. 3. 5. 7. 2. 1. 6. 0. 1. 4.\n",
      " 3. 2. 4. 3. 7. 0. 2. 3. 0. 7. 2. 7. 6. 0. 7. 1. 5. 4. 5. 6. 1. 3. 6. 7.\n",
      " 4. 5. 4. 0. 1. 4. 6. 1. 6. 1. 0. 3. 5. 3. 6. 0. 2. 3. 4. 7. 6. 1. 7. 6.\n",
      " 4. 2. 4. 2. 7. 4. 2. 6. 2. 4. 5. 6. 7. 3. 2. 5. 0. 7. 4. 7. 6. 2. 4. 3.\n",
      " 6. 0. 2. 3. 1. 6. 7. 2. 4. 0. 7. 3. 2. 4. 1. 2. 6. 4. 7. 6. 5. 0. 3. 5.\n",
      " 6. 4. 5. 6. 7. 2. 3. 0. 6. 2. 5. 1. 6. 1. 3. 4. 3. 4. 6. 0. 4. 0. 1. 3.\n",
      " 5. 1. 7. 6. 0. 1. 7. 2. 3. 5. 2. 0. 4. 7. 2. 6. 2. 4. 5. 4. 1. 5. 0. 3.\n",
      " 1. 3. 2. 5. 7. 0. 2. 3. 2. 5. 2. 0. 7. 4. 7. 4. 2. 4. 5. 6. 7. 6. 0. 6.\n",
      " 1. 2. 0. 4. 3. 6. 4. 3. 4. 7. 0. 3. 1. 7. 6. 5. 7. 4. 7. 2. 5. 4. 5. 4.\n",
      " 7. 2. 0. 1. 5. 4. 6. 3. 6. 7. 2. 1. 2.]\n",
      "second_source_led_codes[:,1] =  [ 1  8  6  8  3 11  7 10  0  9  0 11  2  8  0 13  3 12  1 11  7 12  1 14\n",
      "  1 13  7 10  3 14  1 13  2 11  3  8  7  9  2  8  3 15  2 13  7 15  5 13\n",
      "  3 13  4 11  6 12  4 10  3  9  3 11  4 10  7 10  5 13  6  8  6  8  7 15\n",
      "  5 10  5 14  0 15  0 12  7 14  2  8  6 12  1 14  0  8  4 15  3  9  3 13\n",
      "  2 13  7 15  1 12  1 11  2 14  3  8  1 11  1 12  0 10  1 13  5 15  5 13\n",
      "  6  9  3 12  7  9  0 12  6 13  5 12  5 12  7  8  0 14  6 13  0 11  4  8\n",
      "  2 11  0 12  3  8  0 12  2  8  1 15  3 14  5  8  6  9  5 11  6 14  3 15\n",
      "  3  9  0 13  5  8  5  9  4 14  6  9  0 13  5 14  7 11  6  9  3  8  0 14\n",
      "  5 15  4  9  6  9  1  9  5 11  1 11  2 10  1 14  4 12  5 13  0 11  2 15\n",
      "  5 14  3 14  7  8  4 12  3  9  2 14  1 12  1 11  4 10  0 15  2 12  0 13\n",
      "  4 11  2 14  4 13  7 14  4 10  1 15  0 10  1 12  5 13  6 11  6 10  0 12\n",
      "  3  8  3 10  7 11  7 12  2 15  2 12  0 13  5 15  2  8  3 13  2  9  3 12\n",
      "  2 12  2 12  1 13  4 11  3  9  3 14  5 14  3 15  7 13  1  9  2 13  6  8\n",
      "  1 14  3  9  1  8  6 13  0 15  3 11  6  8  1 10  0 13  0 12  2 12  5 10\n",
      "  4 10  7 13  4 12  0 14  6 11  0 12  6 11  1 14  6  9  7 14  5  9  4  9\n",
      "  0 15  3  9  7  8  4 11  6 13  1 10  4  8  0 13  1 15  3  9  0 15  0 14\n",
      "  4 14  4 10  6  9  3 13  5 15  2 15  4 15  5  9  5 12  6 14  5  9  2 12\n",
      "  3 10  5 12  0  9  2 13  5 12  4 14  7 14  2 13  0  9  5 15  0 11  3 13\n",
      "  4 15  5  9  3 14  5  8  4 14  2  8  7 10  7  9  7 10  5 13  7 15  6  8\n",
      "  6 11  6 14  1 11  4 12  2  8  5 15  2 14  0  8  4 11  3 13  7 10  1 14\n",
      "  0  9  4 11  2 12  3 15  0 10  3  8  7 10  2 15  7 14  0 15  1 13  4 13\n",
      "  6  9  3 14  7 12  5 12  0  9  1 12  6  9  6  9  0 11  5 11  6  8  2 10\n",
      "  2 11  4 15  6  9  7 15  6 12  2 12  2 15  4 10  6 10  4 13  6 15  3 10\n",
      "  5  8  7 12  7 15  7 14  2 12  4 11  6  8  2 11  1 14  6 15  2 12  0 15\n",
      "  3 10  4  9  2 14  4 15  6 13  0 11  5 14  4 13  6 15  2 11  0 14  2 13\n",
      "  1 14  1 11  4 11  4 14  0  8  4  8  1 11  5  9  7 15  6  8  1 15  2 11\n",
      "  5 10  0  8  4 12  7 10  6 10  4 13  4 12  4  9  5  8  3  9  3 10  2 13\n",
      "  7  8  0 10  3 10  5 10  0 15  4 15  4 10  2 12  5 14  7 14  0 14  1 10\n",
      "  0 12  3 14  4 11  3 12  4 15  0 11  1 15  6 13  7 12  7 10  5 12  5 12\n",
      "  7 10  0  8  0  8  1 13  4 14  3 14  7 15  2 10  2  9  2 14]\n",
      "matches =  []\n",
      "Error\n",
      "gmou31_2021-11-05_10-05-41_odor\n",
      "Running sync on /n/groups/datta/guitchounts/data/gmou31//gmou31_2021-11-05_10-05-41_odor/ with ttl as first source and arduino as second source.\n",
      "Assuming sync leds in ttl channels 1-4...\n"
     ]
    },
    {
     "name": "stderr",
     "output_type": "stream",
     "text": [
      "/home/gg121/code/moseq2-ephys-sync/moseq2_ephys_sync/arduino.py:16: FutureWarning: The error_bad_lines argument has been deprecated and will be removed in a future version.\n",
      "\n",
      "\n",
      "  ino_data = load_arduino_data(base_path, arduino_colnames, arduino_dtypes, file_glob='*.txt')\n",
      "/home/gg121/anaconda3/envs/sync_test/lib/python3.7/site-packages/pandas/util/_decorators.py:311: ParserWarning: Falling back to the 'python' engine because the 'c' engine does not support skipfooter; you can avoid this warning by specifying engine='python'.\n",
      "  return func(*args, **kwargs)\n",
      "/home/gg121/code/moseq2-ephys-sync/moseq2_ephys_sync/arduino.py:16: FutureWarning: The warn_bad_lines argument has been deprecated and will be removed in a future version.\n",
      "\n",
      "\n",
      "  ino_data = load_arduino_data(base_path, arduino_colnames, arduino_dtypes, file_glob='*.txt')\n"
     ]
    },
    {
     "name": "stdout",
     "output_type": "stream",
     "text": [
      "first_source_led_codes[:,1] =  [6. 0. 3. 7. 2. 0. 1. 0. 3. 2. 0. 5. 3. 4. 1. 3. 7. 4. 1. 6. 1. 5. 7. 2.\n",
      " 3. 6. 1. 5. 2. 3. 0. 7. 1. 2. 0. 3. 7. 2. 5. 7. 5. 3. 5. 4. 3. 6. 4. 2.\n",
      " 3. 1. 3. 4. 2. 7. 2. 5. 6. 0. 6. 0. 7. 5. 2. 5. 6. 0. 7. 0. 4. 7. 6. 2.\n",
      " 0. 6. 4. 1. 6. 0. 4. 7. 3. 1. 3. 5. 2. 5. 7. 1. 4. 1. 3. 2. 6. 3. 0. 1.\n",
      " 3. 1. 4. 0. 2. 1. 5. 7. 5. 6. 1. 3. 4. 7. 1. 0. 4. 6. 5. 4. 5. 4. 7. 0.\n",
      " 6. 5. 0. 3. 4. 0. 2. 3. 0. 4. 3. 0. 4. 2. 0. 1. 7. 3. 6. 5. 0. 6. 1. 5.\n",
      " 3. 6. 3. 7. 3. 1. 0. 5. 0. 5. 1. 4. 6. 1. 0. 5. 6. 7. 3. 6. 1. 3. 0. 6.\n",
      " 5. 7. 4. 1. 6. 1. 5. 3. 1. 3. 2. 1. 6. 4. 5. 0. 3. 2. 7. 5. 6. 3. 6. 7.\n",
      " 0. 4. 3. 1. 2. 6. 1. 4. 1. 3. 4. 2. 0. 7. 2. 4. 0. 5. 4. 3. 2. 6. 4. 5.\n",
      " 7. 6. 4. 2. 1. 7. 0. 2. 1. 4. 5. 6. 3. 6. 2. 0. 4. 3. 0. 3. 2. 7. 3. 7.\n",
      " 4. 2. 7. 2. 4. 0. 5. 7. 2. 0. 3. 5. 2. 1. 3. 4. 2. 4. 2. 4. 1. 5. 4. 3.\n",
      " 1. 3. 6. 5. 6. 3. 7. 5. 1. 2. 5. 6. 0. 1. 6. 3. 1. 0. 6. 5. 0. 7. 3. 6.\n",
      " 0. 1. 2. 0. 5. 0. 4. 2. 4. 5. 2. 4. 2. 7. 5. 4. 0. 6. 3. 0. 4. 6. 3. 1.\n",
      " 6. 1. 7. 6. 5. 1. 4. 1. 0. 7. 3. 1. 7. 0. 4. 3. 6. 5. 1. 2. 4. 0. 5. 1.\n",
      " 7. 3. 1. 0. 7. 0. 6. 4. 6. 4. 2. 6. 1. 3. 5. 7. 2. 7. 4. 7. 5. 1. 5. 4.\n",
      " 6. 5. 1. 2. 4. 3. 2. 5. 4. 0. 1. 2. 5. 4. 6. 7. 6. 2. 5. 0. 1. 5. 7. 0.\n",
      " 3. 5. 4. 7. 5. 1. 3. 6. 5. 0. 4. 6. 2. 0. 7. 2. 7. 1. 7. 2. 5. 7. 6. 0.\n",
      " 6. 3. 6. 1. 3. 4. 2. 0. 5. 7. 2. 6. 0. 4. 3. 5. 7. 2. 1. 6. 0. 1. 4. 3.\n",
      " 2. 4. 3. 7. 0. 2. 3. 0. 7. 2. 7. 6. 0. 7. 1. 5. 4. 5. 6. 1. 3. 6. 7. 4.\n",
      " 5. 4. 0. 1. 4. 6. 1. 6. 1. 0. 3. 5. 3. 6. 0. 2. 3. 4. 7. 6. 1. 7. 6. 4.\n",
      " 2. 4. 2. 7. 4. 2. 6. 2. 4. 5. 6. 7. 3. 2. 5. 0. 7. 4. 7. 6. 2. 4. 3. 6.\n",
      " 0. 2. 3. 1. 6. 7. 2. 4. 0. 7. 3. 2. 4. 1. 2. 6. 4. 7. 6. 5. 0. 3. 5. 6.\n",
      " 4. 5. 6. 7. 2. 3. 0. 6. 2. 5. 1. 6. 1. 3. 4. 3. 4. 6. 0. 4. 0. 1. 3. 5.\n",
      " 1. 7. 6. 0. 1. 7. 2. 3. 5. 2. 0. 4. 7. 2. 6. 2. 4. 5. 4. 1. 5. 0. 3. 1.\n",
      " 3. 2. 5. 7. 0. 2. 3. 2. 5. 2. 0. 7. 4. 7. 4. 2. 4. 5. 6. 7. 6. 0. 6. 1.\n",
      " 2. 0. 4. 3. 6. 4. 3. 4. 7. 0. 3. 1. 7. 6. 5. 7. 4. 7. 2. 5. 4. 5. 4. 7.\n",
      " 2. 0. 1. 5. 4. 6. 3. 6. 7. 2. 1. 2.]\n",
      "second_source_led_codes[:,1] =  [ 1  8  6  8  3 11  7 10  0  9  0 11  2  8  0 13  3 12  1 11  7 12  1 14\n",
      "  1 13  7 10  3 14  1 13  2 11  3  8  7  9  2  8  3 15  2 13  7 15  5 13\n",
      "  3 13  4 11  6 12  4 10  3  9  3 11  4 10  7 10  5 13  6  8  6  8  7 15\n",
      "  5 10  5 14  0 15  0 12  7 14  2  8  6 12  1 14  0  8  4 15  3  9  3 13\n",
      "  2 13  7 15  1 12  1 11  2 14  3  8  1 11  1 12  0 10  1 13  5 15  5 13\n",
      "  6  9  3 12  7  9  0 12  6 13  5 12  5 12  7  8  0 14  6 13  0 11  4  8\n",
      "  2 11  0 12  3  8  0 12  2  8  1 15  3 14  5  8  6  9  5 11  6 14  3 15\n",
      "  3  9  0 13  5  8  5  9  4 14  6  9  0 13  5 14  7 11  6  9  3  8  0 14\n",
      "  5 15  4  9  6  9  1  9  5 11  1 11  2 10  1 14  4 12  5 13  0 11  2 15\n",
      "  5 14  3 14  7  8  4 12  3  9  2 14  1 12  1 11  4 10  0 15  2 12  0 13\n",
      "  4 11  2 14  4 13  7 14  4 10  1 15  0 10  1 12  5 13  6 11  6 10  0 12\n",
      "  3  8  3 10  7 11  7 12  2 15  2 12  0 13  5 15  2  8  3 13  2  9  3 12\n",
      "  2 12  2 12  1 13  4 11  3  9  3 14  5 14  3 15  7 13  1  9  2 13  6  8\n",
      "  1 14  3  9  1  8  6 13  0 15  3 11  6  8  1 10  0 13  0 12  2 12  5 10\n",
      "  4 10  7 13  4 12  0 14  6 11  0 12  6 11  1 14  6  9  7 14  5  9  4  9\n",
      "  0 15  3  9  7  8  4 11  6 13  1 10  4  8  0 13  1 15  3  9  0 15  0 14\n",
      "  4 14  4 10  6  9  3 13  5 15  2 15  4 15  5  9  5 12  6 14  5  9  2 12\n",
      "  3 10  5 12  0  9  2 13  5 12  4 14  7 14  2 13  0  9  5 15  0 11  3 13\n",
      "  4 15  5  9  3 14  5  8  4 14  2  8  7 10  7  9  7 10  5 13  7 15  6  8\n",
      "  6 11  6 14  1 11  4 12  2  8  5 15  2 14  0  8  4 11  3 13  7 10  1 14\n",
      "  0  9  4 11  2 12  3 15  0 10  3  8  7 10  2 15  7 14  0 15  1 13  4 13\n",
      "  6  9  3 14  7 12  5 12  0  9  1 12  6  9  6  9  0 11  5 11  6  8  2 10\n",
      "  2 11  4 15  6  9  7 15  6 12  2 12  2 15  4 10  6 10  4 13  6 15  3 10\n",
      "  5  8  7 12  7 15  7 14  2 12  4 11  6  8  2 11  1 14  6 15  2 12  0 15\n",
      "  3 10  4  9  2 14  4 15  6 13  0 11  5 14  4 13  6 15  2 11  0 14  2 13\n",
      "  1 14  1 11  4 11  4 14  0  8  4  8  1 11  5  9  7 15  6  8  1 15  2 11\n",
      "  5 10  0  8  4 12  7 10  6 10  4 13  4 12  4  9  5  8  3  9  3 10  2 13\n",
      "  7  8  0 10  3 10  5 10  0 15  4 15  4 10  2 12  5 14  7 14  0 14  1 10\n",
      "  0 12  3 14  4 11  3 12  4 15  0 11  1 15  6 13  7 12  7 10  5 12  5 12\n",
      "  7 10  0  8  0  8  1 13  4 14  3 14  7 15  2 10  2  9  2 14  7]\n",
      "matches =  []\n",
      "Error\n",
      "gmou31_2021-11-05_11-33-02_bucket\n",
      "Running sync on /n/groups/datta/guitchounts/data/gmou31//gmou31_2021-11-05_11-33-02_bucket/ with ttl as first source and arduino as second source.\n",
      "Assuming sync leds in ttl channels 1-4...\n"
     ]
    },
    {
     "name": "stderr",
     "output_type": "stream",
     "text": [
      "/home/gg121/code/moseq2-ephys-sync/moseq2_ephys_sync/arduino.py:16: FutureWarning: The error_bad_lines argument has been deprecated and will be removed in a future version.\n",
      "\n",
      "\n",
      "  ino_data = load_arduino_data(base_path, arduino_colnames, arduino_dtypes, file_glob='*.txt')\n"
     ]
    },
    {
     "name": "stdout",
     "output_type": "stream",
     "text": [
      "first_source_led_codes[:,1] =  [ 3. 11.  7. 10.  0.  9.  0. 11.  2.  8.  0. 13.  3. 12.  1. 11.  7. 12.\n",
      "  1. 14.  1. 13.  7. 10.  3. 14.  1. 13.  2. 11.  3.  8.  7.  9.  2.  8.\n",
      "  3. 15.  2. 13.  7. 15.  5. 13.  3. 13.  4. 11.  6. 12.  4. 10.  3.  9.\n",
      "  3. 11.  4. 10.  7. 10.  5. 13.  6.  8.  6.  8.  7. 15.  5. 10.  5. 14.\n",
      "  0. 15.  0. 12.  7. 14.  2.  8.  6. 12.  1. 14.  0.  8.  4. 15.  3.  9.\n",
      "  3. 13.  2. 13.  7. 15.  1. 12.  1. 11.  2. 14.  3.  8.  1. 11.  1. 12.\n",
      "  0. 10.  1. 13.  5. 15.  5. 13.  6.  9.  3. 12.  7.  9.  0. 12.  6. 13.\n",
      "  5. 12.  5. 12.  7.  8.  0. 14.  6. 13.  0. 11.  4.  8.  2. 11.  0. 12.\n",
      "  3.  8.  0. 12.  2.  8.  1. 15.  3. 14.  5.  8.  6.  9.  5. 11.  6. 14.\n",
      "  3. 15.  3.  9.  0. 13.  5.  8.  5.  9.  4. 14.  6.  9.  0. 13.  5. 14.\n",
      "  7. 11.  6.  9.  3.  8.  0. 14.  5. 15.  4.  9.  6.  9.  1.  9.  5. 11.\n",
      "  1. 11.  2. 10.  1. 14.  4. 12.  5. 13.  0. 11.  2. 15.  5. 14.  3. 14.\n",
      "  7.  8.  4. 12.  3.  9.  2. 14.  1. 12.  1. 11.  4. 10.  0. 15.  2. 12.\n",
      "  0. 13.  4. 11.  2. 14.  4. 13.  7. 14.  4. 10.  1. 15.  0. 10.  1. 12.\n",
      "  5. 13.  6. 11.  6. 10.  0. 12.  3.  8.  3. 10.  7. 11.  7. 12.  2. 15.\n",
      "  2. 12.  0. 13.  5. 15.  2.  8.  3. 13.  2.  9.  3. 12.  2. 12.  2. 12.\n",
      "  1. 13.  4. 11.  3.  9.  3. 14.  5. 14.  3. 15.  7. 13.  1.  9.  2. 13.\n",
      "  6.  8.  1. 14.  3.  9.  1.  8.  6. 13.  0. 15.  3. 11.  6.  8.  1. 10.\n",
      "  0. 13.  0. 12.  2. 12.  5. 10.  4. 10.  7. 13.  4. 12.  0. 14.  6. 11.\n",
      "  0. 12.  6. 11.  1. 14.  6.  9.  7. 14.  5.  9.  4.  9.  0. 15.  3.  9.\n",
      "  7.  8.  4. 11.  6. 13.  1. 10.  4.  8.  0. 13.  1. 15.  3.  9.  0. 15.\n",
      "  0. 14.  4. 14.  4. 10.  6.  9.  3. 13.  5. 15.  2. 15.  4. 15.  5.  9.\n",
      "  5. 12.  6. 14.  5.  9.  2. 12.  3. 10.  5. 12.  0.  9.  2. 13.  5. 12.\n",
      "  4. 14.  7. 14.  2. 13.  0.  9.  5. 15.  0. 11.  3. 13.  4. 15.  5.  9.\n",
      "  3. 14.  5.  8.  4. 14.  2.  8.  7. 10.  7.  9.  7. 10.  5. 13.  7. 15.\n",
      "  6.  8.  6. 11.  6. 14.  1. 11.  4. 12.  2.  8.  5. 15.  2. 14.  0.  8.\n",
      "  4. 11.  3. 13.  7. 10.  1. 14.  0.  9.  4. 11.  2. 12.  3. 15.  0. 10.\n",
      "  3.  8.  7. 10.  2. 15.  7. 14.  0. 15.  1. 13.  4. 13.  6.  9.  3. 14.\n",
      "  7. 12.  5. 12.  0.  9.  1. 12.  6.  9.  6.  9.  0. 11.  5. 11.  6.  8.\n",
      "  2. 10.  2. 11.  4. 15.  6.  9.  7. 15.  6. 12.  2. 12.  2. 15.  4. 10.\n",
      "  6. 10.  4. 13.  6. 15.  3. 10.  5.  8.  7. 12.  7. 15.  7. 14.  2. 12.\n",
      "  4. 11.  6.  8.  2. 11.  1. 14.  6. 15.  2. 12.  0. 15.  3. 10.  4.  9.\n",
      "  2. 14.  4. 15.  6. 13.  0. 11.  5. 14.  4. 13.  6. 15.  2. 11.  0. 14.\n",
      "  2. 13.  1. 14.  1. 11.  4. 11.  4. 14.  0.  8.  4.  8.  1. 11.  5.  9.\n",
      "  7. 15.  6.  8.  1. 15.  2. 11.  5. 10.  0.  8.  4. 12.  7. 10.  6. 10.\n",
      "  4. 13.  4. 12.  4.  9.  5.  8.  3.  9.  3. 10.  2. 13.  7.  8.  0. 10.\n",
      "  3. 10.  5. 10.  0. 15.  4. 15.  4. 10.  2. 12.  5. 14.  7. 14.  0. 14.\n",
      "  1. 10.  0. 12.  3. 14.  4. 11.  3. 12.  4. 15.  0. 11.  1. 15.  6. 13.\n",
      "  7. 12.  7. 10.  5. 12.  5. 12.  7. 10.  0.  8.  0.  8.  1. 13.  4. 14.\n",
      "  3. 14.  7. 15.  2. 10.  2.  9.  2. 14.  7. 10.  7.  8.  5. 15.  6. 10.\n",
      "  7. 10.  2. 14.  5.]\n",
      "second_source_led_codes[:,1] =  [ 6  8  3 11  7 10  0  9  0 11  2  8  0 13  3 12  1 11  7 12  1 14  1 13\n",
      "  7 10  3 14  1 13  2 11  3  8  7  9  2  8  3 15  2 13  7 15  5 13  3 13\n",
      "  4 11  6 12  4 10  3  9  3 11  4 10  7 10  5 13  6  8  6  8  7 15  5 10\n",
      "  5 14  0 15  0 12  7 14  2  8  6 12  1 14  0  8  4 15  3  9  3 13  2 13\n",
      "  7 15  1 12  1 11  2 14  3  8  1 11  1 12  0 10  1 13  5 15  5 13  6  9\n",
      "  3 12  7  9  0 12  6 13  5 12  5 12  7  8  0 14  6 13  0 11  4  8  2 11\n",
      "  0 12  3  8  0 12  2  8  1 15  3 14  5  8  6  9  5 11  6 14  3 15  3  9\n",
      "  0 13  5  8  5  9  4 14  6  9  0 13  5 14  7 11  6  9  3  8  0 14  5 15\n",
      "  4  9  6  9  1  9  5 11  1 11  2 10  1 14  4 12  5 13  0 11  2 15  5 14\n",
      "  3 14  7  8  4 12  3  9  2 14  1 12  1 11  4 10  0 15  2 12  0 13  4 11\n",
      "  2 14  4 13  7 14  4 10  1 15  0 10  1 12  5 13  6 11  6 10  0 12  3  8\n",
      "  3 10  7 11  7 12  2 15  2 12  0 13  5 15  2  8  3 13  2  9  3 12  2 12\n",
      "  2 12  1 13  4 11  3  9  3 14  5 14  3 15  7 13  1  9  2 13  6  8  1 14\n",
      "  3  9  1  8  6 13  0 15  3 11  6  8  1 10  0 13  0 12  2 12  5 10  4 10\n",
      "  7 13  4 12  0 14  6 11  0 12  6 11  1 14  6  9  7 14  5  9  4  9  0 15\n",
      "  3  9  7  8  4 11  6 13  1 10  4  8  0 13  1 15  3  9  0 15  0 14  4 14\n",
      "  4 10  6  9  3 13  5 15  2 15  4 15  5  9  5 12  6 14  5  9  2 12  3 10\n",
      "  5 12  0  9  2 13  5 12  4 14  7 14  2 13  0  9  5 15  0 11  3 13  4 15\n",
      "  5  9  3 14  5  8  4 14  2  8  7 10  7  9  7 10  5 13  7 15  6  8  6 11\n",
      "  6 14  1 11  4 12  2  8  5 15  2 14  0  8  4 11  3 13  7 10  1 14  0  9\n",
      "  4 11  2 12  3 15  0 10  3  8  7 10  2 15  7 14  0 15  1 13  4 13  6  9\n",
      "  3 14  7 12  5 12  0  9  1 12  6  9  6  9  0 11  5 11  6  8  2 10  2 11\n",
      "  4 15  6  9  7 15  6 12  2 12  2 15  4 10  6 10  4 13  6 15  3 10  5  8\n",
      "  7 12  7 15  7 14  2 12  4 11  6  8  2 11  1 14  6 15  2 12  0 15  3 10\n",
      "  4  9  2 14  4 15  6 13  0 11  5 14  4 13  6 15  2 11  0 14  2 13  1 14\n",
      "  1 11  4 11  4 14  0  8  4  8  1 11  5  9  7 15  6  8  1 15  2 11  5 10\n",
      "  0  8  4 12  7 10  6 10  4 13  4 12  4  9  5  8  3  9  3 10  2 13  7  8\n",
      "  0 10  3 10  5 10  0 15  4 15  4 10  2 12  5 14  7 14  0 14  1 10  0 12\n",
      "  3 14  4 11  3 12  4 15  0 11  1 15  6 13  7 12  7 10  5 12  5 12  7 10\n",
      "  0  8  0  8  1 13  4 14  3 14  7 15  2 10  2  9  2 14  7 10  7  8  5 15\n",
      "  6 10  7 10  2 14  5]\n",
      "matches =  [[   4.9153       40.        ]\n",
      " [   9.9153       45.        ]\n",
      " [  14.9177       50.        ]\n",
      " ...\n",
      " [3594.98573333 3630.        ]\n",
      " [3599.98776667 3635.        ]\n",
      " [3604.98606667 3640.        ]]\n"
     ]
    },
    {
     "name": "stderr",
     "output_type": "stream",
     "text": [
      "[Parallel(n_jobs=1)]: Using backend SequentialBackend with 1 concurrent workers.\n",
      "[Parallel(n_jobs=1)]: Done   4 out of   4 | elapsed:    0.0s finished\n"
     ]
    },
    {
     "name": "stdout",
     "output_type": "stream",
     "text": [
      "Saved model that predicts ttl from arduino\n"
     ]
    },
    {
     "name": "stderr",
     "output_type": "stream",
     "text": [
      "[Parallel(n_jobs=1)]: Using backend SequentialBackend with 1 concurrent workers.\n",
      "[Parallel(n_jobs=1)]: Done   4 out of   4 | elapsed:    0.0s finished\n"
     ]
    },
    {
     "name": "stdout",
     "output_type": "stream",
     "text": [
      "Saved model that predicts arduino from ttl\n",
      "Syncing complete. FIN\n"
     ]
    }
   ],
   "source": [
    "for exp in sessions[9:]:\n",
    "    \n",
    "    try:\n",
    "        arduino_spec = 'odor_on_wheel' if exp.endswith('odor') else 'bucket'\n",
    "        path = '%s/%s/' % (base_dir,exp)\n",
    "        print(exp)\n",
    "\n",
    "\n",
    "\n",
    "        main_function(base_path=path,output_dir_name='sync',\n",
    "            first_source='ttl',second_source='arduino',arduino_spec=arduino_spec)\n",
    "        \n",
    "    except:\n",
    "        print('Error')"
   ]
  },
  {
   "cell_type": "code",
   "execution_count": null,
   "id": "21e033ae",
   "metadata": {},
   "outputs": [],
   "source": [
    "## for gmou32 odor sessions , looks like ephys TTL picked up [3] leds while the arduino had 4. "
   ]
  },
  {
   "cell_type": "code",
   "execution_count": null,
   "id": "0208518a",
   "metadata": {},
   "outputs": [],
   "source": []
  },
  {
   "cell_type": "code",
   "execution_count": null,
   "id": "2bbd62e4",
   "metadata": {},
   "outputs": [],
   "source": []
  }
 ],
 "metadata": {
  "kernelspec": {
   "display_name": "Python 3 (ipykernel)",
   "language": "python",
   "name": "python3"
  },
  "language_info": {
   "codemirror_mode": {
    "name": "ipython",
    "version": 3
   },
   "file_extension": ".py",
   "mimetype": "text/x-python",
   "name": "python",
   "nbconvert_exporter": "python",
   "pygments_lexer": "ipython3",
   "version": "3.7.10"
  }
 },
 "nbformat": 4,
 "nbformat_minor": 5
}
